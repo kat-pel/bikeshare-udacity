{
 "nbformat": 4,
 "nbformat_minor": 2,
 "metadata": {
  "language_info": {
   "name": "python",
   "codemirror_mode": {
    "name": "ipython",
    "version": 3
   },
   "version": "3.7.7-final"
  },
  "orig_nbformat": 2,
  "file_extension": ".py",
  "mimetype": "text/x-python",
  "name": "python",
  "npconvert_exporter": "python",
  "pygments_lexer": "ipython3",
  "version": 3,
  "kernelspec": {
   "name": "python3",
   "display_name": "Python 3"
  }
 },
 "cells": [
  {
   "cell_type": "code",
   "execution_count": 21,
   "metadata": {},
   "outputs": [],
   "source": [
    "import time\n",
    "import pandas as pd\n",
    "# import numpy as np\n",
    "import matplotlib.pyplot as plt"
   ]
  },
  {
   "cell_type": "code",
   "execution_count": 22,
   "metadata": {},
   "outputs": [
    {
     "output_type": "execute_result",
     "data": {
      "text/plain": "        Unnamed: 0           Start Time             End Time  Trip Duration  \\\n0          1423854  2017-06-23 15:09:32  2017-06-23 15:14:53            321   \n1           955915  2017-05-25 18:19:03  2017-05-25 18:45:53           1610   \n2             9031  2017-01-04 08:27:49  2017-01-04 08:34:45            416   \n3           304487  2017-03-06 13:49:38  2017-03-06 13:55:28            350   \n4            45207  2017-01-17 14:53:07  2017-01-17 15:02:01            534   \n...            ...                  ...                  ...            ...   \n299995       64825  2017-01-21 13:18:00  2017-01-21 13:27:50            590   \n299996      695993  2017-04-28 19:32:19  2017-04-28 19:51:18           1139   \n299997      159685  2017-02-12 09:59:01  2017-02-12 10:21:49           1368   \n299998      564681  2017-04-16 17:07:15  2017-04-16 17:19:00            705   \n299999     1021247  2017-05-30 12:38:28  2017-05-30 12:55:36           1028   \n\n                        Start Station                   End Station  \\\n0                Wood St & Hubbard St       Damen Ave & Chicago Ave   \n1                 Theater on the Lake  Sheffield Ave & Waveland Ave   \n2                  May St & Taylor St           Wood St & Taylor St   \n3       Christiana Ave & Lawrence Ave  St. Louis Ave & Balmoral Ave   \n4              Clark St & Randolph St  Desplaines St & Jackson Blvd   \n...                               ...                           ...   \n299995        Orleans St & Elm St (*)   Sheffield Ave & Webster Ave   \n299996     Ashland Ave & Blackhawk St             Clark St & Elm St   \n299997  Ravenswood Ave & Lawrence Ave  Stockton Dr & Wrightwood Ave   \n299998      Sheffield Ave & Willow St        Clark St & Chicago Ave   \n299999      Wacker Dr & Washington St       Damen Ave & Division St   \n\n         User Type  Gender  Birth Year  \n0       Subscriber    Male      1992.0  \n1       Subscriber  Female      1992.0  \n2       Subscriber    Male      1981.0  \n3       Subscriber    Male      1986.0  \n4       Subscriber    Male      1975.0  \n...            ...     ...         ...  \n299995  Subscriber    Male      1965.0  \n299996    Customer     NaN         NaN  \n299997  Subscriber  Female      1988.0  \n299998    Customer     NaN         NaN  \n299999  Subscriber    Male      1984.0  \n\n[300000 rows x 9 columns]",
      "text/html": "<div>\n<style scoped>\n    .dataframe tbody tr th:only-of-type {\n        vertical-align: middle;\n    }\n\n    .dataframe tbody tr th {\n        vertical-align: top;\n    }\n\n    .dataframe thead th {\n        text-align: right;\n    }\n</style>\n<table border=\"1\" class=\"dataframe\">\n  <thead>\n    <tr style=\"text-align: right;\">\n      <th></th>\n      <th>Unnamed: 0</th>\n      <th>Start Time</th>\n      <th>End Time</th>\n      <th>Trip Duration</th>\n      <th>Start Station</th>\n      <th>End Station</th>\n      <th>User Type</th>\n      <th>Gender</th>\n      <th>Birth Year</th>\n    </tr>\n  </thead>\n  <tbody>\n    <tr>\n      <th>0</th>\n      <td>1423854</td>\n      <td>2017-06-23 15:09:32</td>\n      <td>2017-06-23 15:14:53</td>\n      <td>321</td>\n      <td>Wood St &amp; Hubbard St</td>\n      <td>Damen Ave &amp; Chicago Ave</td>\n      <td>Subscriber</td>\n      <td>Male</td>\n      <td>1992.0</td>\n    </tr>\n    <tr>\n      <th>1</th>\n      <td>955915</td>\n      <td>2017-05-25 18:19:03</td>\n      <td>2017-05-25 18:45:53</td>\n      <td>1610</td>\n      <td>Theater on the Lake</td>\n      <td>Sheffield Ave &amp; Waveland Ave</td>\n      <td>Subscriber</td>\n      <td>Female</td>\n      <td>1992.0</td>\n    </tr>\n    <tr>\n      <th>2</th>\n      <td>9031</td>\n      <td>2017-01-04 08:27:49</td>\n      <td>2017-01-04 08:34:45</td>\n      <td>416</td>\n      <td>May St &amp; Taylor St</td>\n      <td>Wood St &amp; Taylor St</td>\n      <td>Subscriber</td>\n      <td>Male</td>\n      <td>1981.0</td>\n    </tr>\n    <tr>\n      <th>3</th>\n      <td>304487</td>\n      <td>2017-03-06 13:49:38</td>\n      <td>2017-03-06 13:55:28</td>\n      <td>350</td>\n      <td>Christiana Ave &amp; Lawrence Ave</td>\n      <td>St. Louis Ave &amp; Balmoral Ave</td>\n      <td>Subscriber</td>\n      <td>Male</td>\n      <td>1986.0</td>\n    </tr>\n    <tr>\n      <th>4</th>\n      <td>45207</td>\n      <td>2017-01-17 14:53:07</td>\n      <td>2017-01-17 15:02:01</td>\n      <td>534</td>\n      <td>Clark St &amp; Randolph St</td>\n      <td>Desplaines St &amp; Jackson Blvd</td>\n      <td>Subscriber</td>\n      <td>Male</td>\n      <td>1975.0</td>\n    </tr>\n    <tr>\n      <th>...</th>\n      <td>...</td>\n      <td>...</td>\n      <td>...</td>\n      <td>...</td>\n      <td>...</td>\n      <td>...</td>\n      <td>...</td>\n      <td>...</td>\n      <td>...</td>\n    </tr>\n    <tr>\n      <th>299995</th>\n      <td>64825</td>\n      <td>2017-01-21 13:18:00</td>\n      <td>2017-01-21 13:27:50</td>\n      <td>590</td>\n      <td>Orleans St &amp; Elm St (*)</td>\n      <td>Sheffield Ave &amp; Webster Ave</td>\n      <td>Subscriber</td>\n      <td>Male</td>\n      <td>1965.0</td>\n    </tr>\n    <tr>\n      <th>299996</th>\n      <td>695993</td>\n      <td>2017-04-28 19:32:19</td>\n      <td>2017-04-28 19:51:18</td>\n      <td>1139</td>\n      <td>Ashland Ave &amp; Blackhawk St</td>\n      <td>Clark St &amp; Elm St</td>\n      <td>Customer</td>\n      <td>NaN</td>\n      <td>NaN</td>\n    </tr>\n    <tr>\n      <th>299997</th>\n      <td>159685</td>\n      <td>2017-02-12 09:59:01</td>\n      <td>2017-02-12 10:21:49</td>\n      <td>1368</td>\n      <td>Ravenswood Ave &amp; Lawrence Ave</td>\n      <td>Stockton Dr &amp; Wrightwood Ave</td>\n      <td>Subscriber</td>\n      <td>Female</td>\n      <td>1988.0</td>\n    </tr>\n    <tr>\n      <th>299998</th>\n      <td>564681</td>\n      <td>2017-04-16 17:07:15</td>\n      <td>2017-04-16 17:19:00</td>\n      <td>705</td>\n      <td>Sheffield Ave &amp; Willow St</td>\n      <td>Clark St &amp; Chicago Ave</td>\n      <td>Customer</td>\n      <td>NaN</td>\n      <td>NaN</td>\n    </tr>\n    <tr>\n      <th>299999</th>\n      <td>1021247</td>\n      <td>2017-05-30 12:38:28</td>\n      <td>2017-05-30 12:55:36</td>\n      <td>1028</td>\n      <td>Wacker Dr &amp; Washington St</td>\n      <td>Damen Ave &amp; Division St</td>\n      <td>Subscriber</td>\n      <td>Male</td>\n      <td>1984.0</td>\n    </tr>\n  </tbody>\n</table>\n<p>300000 rows × 9 columns</p>\n</div>"
     },
     "metadata": {},
     "execution_count": 22
    }
   ],
   "source": [
    "pd.read_csv(\"chicago.csv\")"
   ]
  },
  {
   "cell_type": "code",
   "execution_count": 23,
   "metadata": {},
   "outputs": [],
   "source": [
    "CITY_DATA = { 'Chicago': 'chicago.csv',\n",
    "              'New York City': 'new_york_city.csv',\n",
    "              'Washington': 'washington.csv' }\n",
    "\n",
    "def get_filters():\n",
    "    \"\"\"\n",
    "    Asks user to specify a city, month, and day to analyze.\n",
    "\n",
    "    Returns:\n",
    "        (str) city - name of the city to analyze\n",
    "        (str) month - name of the month to filter by, or \"all\" to apply no month filter\n",
    "        (str) day - name of the day of week to filter by, or \"all\" to apply no day filter\n",
    "    \"\"\"\n",
    "    print('Hello! Let\\'s explore some US bikeshare data!')\n",
    "    # get user input for city (chicago, new york city, washington). HINT: Use a while loop to       handle invalid inputs\n",
    "    city = input('Please enter Chicago, New York City or Washington:')\n",
    " \n",
    "    # get user input for month (all, january, february, ... , june)\n",
    "    month = input('Please enter a month January, February, March, April, May, June or all: ')\n",
    "\n",
    "    # get user input for day of week (all, monday, tuesday, ... sunday)\n",
    "    day = input('Please enter a day of the week Monday, Tuesday.. or all')\n",
    "\n",
    "    print('-'*40)\n",
    "    return city, month, day\n",
    ""
   ]
  },
  {
   "cell_type": "code",
   "execution_count": 24,
   "metadata": {},
   "outputs": [
    {
     "output_type": "stream",
     "name": "stdout",
     "text": "Hello! Let's explore some US bikeshare data!\n----------------------------------------\n"
    }
   ],
   "source": [
    "filters = get_filters()"
   ]
  },
  {
   "cell_type": "code",
   "execution_count": 25,
   "metadata": {},
   "outputs": [
    {
     "output_type": "execute_result",
     "data": {
      "text/plain": "('Chicago', 'all', 'all')"
     },
     "metadata": {},
     "execution_count": 25
    }
   ],
   "source": [
    "filters"
   ]
  },
  {
   "cell_type": "code",
   "execution_count": 26,
   "metadata": {},
   "outputs": [
    {
     "output_type": "execute_result",
     "data": {
      "text/plain": "('Chicago', 'all', 'all')"
     },
     "metadata": {},
     "execution_count": 26
    }
   ],
   "source": [
    "day = filters[2]\n",
    "month = filters[1]\n",
    "city = filters[0]\n",
    "city, month, day"
   ]
  },
  {
   "cell_type": "code",
   "execution_count": 27,
   "metadata": {},
   "outputs": [],
   "source": [
    "def load_data(city, month, day):\n",
    "    \"\"\"\n",
    "    Loads data for the specified city and filters by month and day if applicable.\n",
    "\n",
    "    Args:\n",
    "        (str) city - name of the city to analyze\n",
    "        (str) month - name of the month to filter by, or \"all\" to apply no month filter\n",
    "        (str) day - name of the day of week to filter by, or \"all\" to apply no day filter\n",
    "    Returns:\n",
    "        df - Pandas DataFrame containing city data filtered by month and day\n",
    "    \"\"\"\n",
    "    df = pd.read_csv(CITY_DATA[city])\n",
    "\n",
    "    df['Start Time'] = pd.to_datetime(df['Start Time'])\n",
    "    df['Month'] = df['Start Time'].dt.month_name()\n",
    "    df['Weekday'] = df['Start Time'].dt.day_name()\n",
    "\n",
    "    if month == \"all\":\n",
    "        months = ['January', 'February', 'March', 'April', 'May', 'June']\n",
    "        month_filter = df[\"Month\"].isin(months)\n",
    "    else:\n",
    "        month_filter = df['Month'] == month\n",
    "\n",
    "    if day == \"all\":\n",
    "        days = ['Monday', 'Tuesday', 'Wednesday', 'Thursday', 'Friday', 'Saturday', 'Sunday']\n",
    "        day_filter = df['Weekday'].isin(days)\n",
    "        \n",
    "    else:\n",
    "        day_filter = df['Weekday'] == day\n",
    "\n",
    "    df = df[day_filter & month_filter]\n",
    "\n",
    "    return df"
   ]
  },
  {
   "cell_type": "code",
   "execution_count": 28,
   "metadata": {},
   "outputs": [],
   "source": [
    "def time_stats(df):\n",
    "    \"\"\"Displays statistics on the most frequent times of travel.\"\"\"\n",
    "\n",
    "    print('\\nCalculating The Most Frequent Times of Travel...\\n')\n",
    "    start_time = time.time()\n",
    "\n",
    "    # display the most common month\n",
    "    common_month = df['Month'].mode()[0]\n",
    "    print('The most common month is:', common_month)\n",
    "\n",
    "        # display the most common day of week\n",
    "    common_day = df['Weekday'].mode()[0]\n",
    "    print('The most common day is:', common_day)\n",
    "\n",
    "        # display the most common start hour\n",
    "    df['Hour'] = df['Start Time'].dt.hour\n",
    "    common_hour = df['Hour'].mode()[0]\n",
    "    print('The most common start hour is:', common_hour)\n",
    "\n",
    "    print(\"\\nThis took %s seconds.\" % (time.time() - start_time))\n",
    "    print('-'*40)"
   ]
  },
  {
   "cell_type": "code",
   "execution_count": 29,
   "metadata": {},
   "outputs": [],
   "source": [
    "df = load_data(city=city, month=month, day=day)"
   ]
  },
  {
   "cell_type": "code",
   "execution_count": 30,
   "metadata": {},
   "outputs": [
    {
     "output_type": "execute_result",
     "data": {
      "text/plain": "        Unnamed: 0          Start Time             End Time  Trip Duration  \\\n0          1423854 2017-06-23 15:09:32  2017-06-23 15:14:53            321   \n1           955915 2017-05-25 18:19:03  2017-05-25 18:45:53           1610   \n2             9031 2017-01-04 08:27:49  2017-01-04 08:34:45            416   \n3           304487 2017-03-06 13:49:38  2017-03-06 13:55:28            350   \n4            45207 2017-01-17 14:53:07  2017-01-17 15:02:01            534   \n...            ...                 ...                  ...            ...   \n299995       64825 2017-01-21 13:18:00  2017-01-21 13:27:50            590   \n299996      695993 2017-04-28 19:32:19  2017-04-28 19:51:18           1139   \n299997      159685 2017-02-12 09:59:01  2017-02-12 10:21:49           1368   \n299998      564681 2017-04-16 17:07:15  2017-04-16 17:19:00            705   \n299999     1021247 2017-05-30 12:38:28  2017-05-30 12:55:36           1028   \n\n                        Start Station                   End Station  \\\n0                Wood St & Hubbard St       Damen Ave & Chicago Ave   \n1                 Theater on the Lake  Sheffield Ave & Waveland Ave   \n2                  May St & Taylor St           Wood St & Taylor St   \n3       Christiana Ave & Lawrence Ave  St. Louis Ave & Balmoral Ave   \n4              Clark St & Randolph St  Desplaines St & Jackson Blvd   \n...                               ...                           ...   \n299995        Orleans St & Elm St (*)   Sheffield Ave & Webster Ave   \n299996     Ashland Ave & Blackhawk St             Clark St & Elm St   \n299997  Ravenswood Ave & Lawrence Ave  Stockton Dr & Wrightwood Ave   \n299998      Sheffield Ave & Willow St        Clark St & Chicago Ave   \n299999      Wacker Dr & Washington St       Damen Ave & Division St   \n\n         User Type  Gender  Birth Year     Month    Weekday  \n0       Subscriber    Male      1992.0      June     Friday  \n1       Subscriber  Female      1992.0       May   Thursday  \n2       Subscriber    Male      1981.0   January  Wednesday  \n3       Subscriber    Male      1986.0     March     Monday  \n4       Subscriber    Male      1975.0   January    Tuesday  \n...            ...     ...         ...       ...        ...  \n299995  Subscriber    Male      1965.0   January   Saturday  \n299996    Customer     NaN         NaN     April     Friday  \n299997  Subscriber  Female      1988.0  February     Sunday  \n299998    Customer     NaN         NaN     April     Sunday  \n299999  Subscriber    Male      1984.0       May    Tuesday  \n\n[300000 rows x 11 columns]",
      "text/html": "<div>\n<style scoped>\n    .dataframe tbody tr th:only-of-type {\n        vertical-align: middle;\n    }\n\n    .dataframe tbody tr th {\n        vertical-align: top;\n    }\n\n    .dataframe thead th {\n        text-align: right;\n    }\n</style>\n<table border=\"1\" class=\"dataframe\">\n  <thead>\n    <tr style=\"text-align: right;\">\n      <th></th>\n      <th>Unnamed: 0</th>\n      <th>Start Time</th>\n      <th>End Time</th>\n      <th>Trip Duration</th>\n      <th>Start Station</th>\n      <th>End Station</th>\n      <th>User Type</th>\n      <th>Gender</th>\n      <th>Birth Year</th>\n      <th>Month</th>\n      <th>Weekday</th>\n    </tr>\n  </thead>\n  <tbody>\n    <tr>\n      <th>0</th>\n      <td>1423854</td>\n      <td>2017-06-23 15:09:32</td>\n      <td>2017-06-23 15:14:53</td>\n      <td>321</td>\n      <td>Wood St &amp; Hubbard St</td>\n      <td>Damen Ave &amp; Chicago Ave</td>\n      <td>Subscriber</td>\n      <td>Male</td>\n      <td>1992.0</td>\n      <td>June</td>\n      <td>Friday</td>\n    </tr>\n    <tr>\n      <th>1</th>\n      <td>955915</td>\n      <td>2017-05-25 18:19:03</td>\n      <td>2017-05-25 18:45:53</td>\n      <td>1610</td>\n      <td>Theater on the Lake</td>\n      <td>Sheffield Ave &amp; Waveland Ave</td>\n      <td>Subscriber</td>\n      <td>Female</td>\n      <td>1992.0</td>\n      <td>May</td>\n      <td>Thursday</td>\n    </tr>\n    <tr>\n      <th>2</th>\n      <td>9031</td>\n      <td>2017-01-04 08:27:49</td>\n      <td>2017-01-04 08:34:45</td>\n      <td>416</td>\n      <td>May St &amp; Taylor St</td>\n      <td>Wood St &amp; Taylor St</td>\n      <td>Subscriber</td>\n      <td>Male</td>\n      <td>1981.0</td>\n      <td>January</td>\n      <td>Wednesday</td>\n    </tr>\n    <tr>\n      <th>3</th>\n      <td>304487</td>\n      <td>2017-03-06 13:49:38</td>\n      <td>2017-03-06 13:55:28</td>\n      <td>350</td>\n      <td>Christiana Ave &amp; Lawrence Ave</td>\n      <td>St. Louis Ave &amp; Balmoral Ave</td>\n      <td>Subscriber</td>\n      <td>Male</td>\n      <td>1986.0</td>\n      <td>March</td>\n      <td>Monday</td>\n    </tr>\n    <tr>\n      <th>4</th>\n      <td>45207</td>\n      <td>2017-01-17 14:53:07</td>\n      <td>2017-01-17 15:02:01</td>\n      <td>534</td>\n      <td>Clark St &amp; Randolph St</td>\n      <td>Desplaines St &amp; Jackson Blvd</td>\n      <td>Subscriber</td>\n      <td>Male</td>\n      <td>1975.0</td>\n      <td>January</td>\n      <td>Tuesday</td>\n    </tr>\n    <tr>\n      <th>...</th>\n      <td>...</td>\n      <td>...</td>\n      <td>...</td>\n      <td>...</td>\n      <td>...</td>\n      <td>...</td>\n      <td>...</td>\n      <td>...</td>\n      <td>...</td>\n      <td>...</td>\n      <td>...</td>\n    </tr>\n    <tr>\n      <th>299995</th>\n      <td>64825</td>\n      <td>2017-01-21 13:18:00</td>\n      <td>2017-01-21 13:27:50</td>\n      <td>590</td>\n      <td>Orleans St &amp; Elm St (*)</td>\n      <td>Sheffield Ave &amp; Webster Ave</td>\n      <td>Subscriber</td>\n      <td>Male</td>\n      <td>1965.0</td>\n      <td>January</td>\n      <td>Saturday</td>\n    </tr>\n    <tr>\n      <th>299996</th>\n      <td>695993</td>\n      <td>2017-04-28 19:32:19</td>\n      <td>2017-04-28 19:51:18</td>\n      <td>1139</td>\n      <td>Ashland Ave &amp; Blackhawk St</td>\n      <td>Clark St &amp; Elm St</td>\n      <td>Customer</td>\n      <td>NaN</td>\n      <td>NaN</td>\n      <td>April</td>\n      <td>Friday</td>\n    </tr>\n    <tr>\n      <th>299997</th>\n      <td>159685</td>\n      <td>2017-02-12 09:59:01</td>\n      <td>2017-02-12 10:21:49</td>\n      <td>1368</td>\n      <td>Ravenswood Ave &amp; Lawrence Ave</td>\n      <td>Stockton Dr &amp; Wrightwood Ave</td>\n      <td>Subscriber</td>\n      <td>Female</td>\n      <td>1988.0</td>\n      <td>February</td>\n      <td>Sunday</td>\n    </tr>\n    <tr>\n      <th>299998</th>\n      <td>564681</td>\n      <td>2017-04-16 17:07:15</td>\n      <td>2017-04-16 17:19:00</td>\n      <td>705</td>\n      <td>Sheffield Ave &amp; Willow St</td>\n      <td>Clark St &amp; Chicago Ave</td>\n      <td>Customer</td>\n      <td>NaN</td>\n      <td>NaN</td>\n      <td>April</td>\n      <td>Sunday</td>\n    </tr>\n    <tr>\n      <th>299999</th>\n      <td>1021247</td>\n      <td>2017-05-30 12:38:28</td>\n      <td>2017-05-30 12:55:36</td>\n      <td>1028</td>\n      <td>Wacker Dr &amp; Washington St</td>\n      <td>Damen Ave &amp; Division St</td>\n      <td>Subscriber</td>\n      <td>Male</td>\n      <td>1984.0</td>\n      <td>May</td>\n      <td>Tuesday</td>\n    </tr>\n  </tbody>\n</table>\n<p>300000 rows × 11 columns</p>\n</div>"
     },
     "metadata": {},
     "execution_count": 30
    }
   ],
   "source": [
    "df"
   ]
  },
  {
   "cell_type": "code",
   "execution_count": 31,
   "metadata": {},
   "outputs": [
    {
     "output_type": "stream",
     "name": "stdout",
     "text": "\nCalculating The Most Frequent Times of Travel...\n\nThe most common month is: June\nThe most common day is: Tuesday\nThe most common start hour is: 17\n\nThis took 0.0967416763305664 seconds.\n----------------------------------------\n"
    }
   ],
   "source": [
    "time_stats(df = df)"
   ]
  },
  {
   "cell_type": "code",
   "execution_count": 32,
   "metadata": {},
   "outputs": [],
   "source": [
    "# test_df['Weekday_number'] = test_df['Start Time'].dt.weekday\n",
    "# test_df['Weekday_number'].plot.hist(bins=100)"
   ]
  },
  {
   "cell_type": "code",
   "execution_count": 33,
   "metadata": {},
   "outputs": [
    {
     "output_type": "execute_result",
     "data": {
      "text/plain": "(300000, 12)"
     },
     "metadata": {},
     "execution_count": 33
    }
   ],
   "source": [
    "df.shape"
   ]
  },
  {
   "cell_type": "code",
   "execution_count": 34,
   "metadata": {},
   "outputs": [],
   "source": [
    "def station_stats(df):\n",
    "    \"\"\"Displays statistics on the most popular stations and trip.\"\"\"\n",
    "\n",
    "    print('\\nCalculating The Most Popular Stations and Trip...\\n')\n",
    "    start_time = time.time()\n",
    "\n",
    "    # display most commonly used start station\n",
    "    common_start_station = df['Start Station'].mode()[0]\n",
    "    print('The most common start station is:', common_start_station)\n",
    "\n",
    "    # display most commonly used end station\n",
    "    common_end_station = df['End Station'].mode()[0]\n",
    "    print('The most common end station is:', common_end_station)\n",
    "\n",
    "    # display most frequent combination of start station and end station trip\n",
    "    combination = df['Start Station'] + ' ' + '-' + ' ' + df['End Station']\n",
    "    print('The most common combination of stations is:', combination.mode()[0])\n",
    "\n",
    "    print(\"\\nThis took %s seconds.\" % (time.time() - start_time))\n",
    "    print('-'*40)\n",
    ""
   ]
  },
  {
   "cell_type": "code",
   "execution_count": 35,
   "metadata": {},
   "outputs": [
    {
     "output_type": "stream",
     "name": "stdout",
     "text": "\nCalculating The Most Popular Stations and Trip...\n\nThe most common start station is: Streeter Dr & Grand Ave\nThe most common end station is: Streeter Dr & Grand Ave\nThe most common combination of stations is: Lake Shore Dr & Monroe St - Streeter Dr & Grand Ave\n\nThis took 0.3371298313140869 seconds.\n----------------------------------------\n"
    }
   ],
   "source": [
    "station_stats(df = df)"
   ]
  },
  {
   "cell_type": "code",
   "execution_count": 36,
   "metadata": {},
   "outputs": [
    {
     "output_type": "stream",
     "name": "stdout",
     "text": "The most common combination of stations is: Lake Shore Dr & Monroe St - Streeter Dr & Grand Ave\n"
    }
   ],
   "source": [
    "combination = df['Start Station'] + ' ' + '-' + ' ' + df['End Station']\n",
    "print('The most common combination of stations is:', combination.mode()[0])"
   ]
  },
  {
   "cell_type": "code",
   "execution_count": 37,
   "metadata": {},
   "outputs": [
    {
     "output_type": "execute_result",
     "data": {
      "text/plain": "'The most common combination of stations is: Lake Shore Dr & Monroe St - Streeter Dr & Grand Ave'"
     },
     "metadata": {},
     "execution_count": 37
    }
   ],
   "source": [
    "f\"The most common combination of stations is: {combination.mode()[0]}\""
   ]
  },
  {
   "cell_type": "code",
   "execution_count": null,
   "metadata": {},
   "outputs": [],
   "source": []
  },
  {
   "cell_type": "code",
   "execution_count": 38,
   "metadata": {},
   "outputs": [],
   "source": [
    "def trip_duration_stats(df):\n",
    "    \"\"\"Displays statistics on the total and average trip duration.\"\"\"\n",
    "\n",
    "    print('\\nCalculating Trip Duration...\\n')\n",
    "    start_time = time.time()\n",
    "\n",
    "    # display total travel time\n",
    "\n",
    "\n",
    "    # display mean travel time\n",
    "\n",
    "\n",
    "    print(\"\\nThis took %s seconds.\" % (time.time() - start_time))\n",
    "    print('-'*40)"
   ]
  },
  {
   "cell_type": "code",
   "execution_count": 39,
   "metadata": {},
   "outputs": [],
   "source": [
    "def user_stats(df):\n",
    "    \"\"\"Displays statistics on bikeshare users.\"\"\"\n",
    "\n",
    "    print('\\nCalculating User Stats...\\n')\n",
    "    start_time = time.time()\n",
    "\n",
    "    # Display counts of user types\n",
    "\n",
    "\n",
    "    # Display counts of gender\n",
    "\n",
    "\n",
    "    # Display earliest, most recent, and most common year of birth\n",
    "\n",
    "\n",
    "    print(\"\\nThis took %s seconds.\" % (time.time() - start_time))\n",
    "    print('-'*40)\n",
    ""
   ]
  },
  {
   "cell_type": "code",
   "execution_count": 40,
   "metadata": {},
   "outputs": [
    {
     "output_type": "execute_result",
     "data": {
      "text/plain": "568"
     },
     "metadata": {},
     "execution_count": 40
    }
   ],
   "source": [
    "df['Start Station'].nunique()"
   ]
  },
  {
   "cell_type": "code",
   "execution_count": 41,
   "metadata": {},
   "outputs": [
    {
     "output_type": "execute_result",
     "data": {
      "text/plain": "Streeter Dr & Grand Ave         6911\nClinton St & Washington Blvd    4306\nLake Shore Dr & Monroe St       4289\nClinton St & Madison St         3744\nCanal St & Adams St             3443\n                                ... \nThroop St & 52nd St                1\nAshland Ave & 69th St              1\nHalsted St & 51st St               1\nRacine Ave & 65th St               1\nEllis Ave & 83rd St                1\nName: Start Station, Length: 568, dtype: int64"
     },
     "metadata": {},
     "execution_count": 41
    }
   ],
   "source": [
    "df['Start Station'].value_counts()\n",
    ""
   ]
  },
  {
   "cell_type": "code",
   "execution_count": 42,
   "metadata": {},
   "outputs": [],
   "source": [
    "# df['Trip Duration minutes'] = pd.to_datetime(df['Trip Duration minutes'])\n",
    "# df['Trip Duration minutes']"
   ]
  },
  {
   "cell_type": "code",
   "execution_count": 43,
   "metadata": {},
   "outputs": [
    {
     "output_type": "execute_result",
     "data": {
      "text/plain": "0          5\n1         27\n2          7\n3          6\n4          9\n          ..\n299995    10\n299996    19\n299997    23\n299998    12\n299999    17\nName: Trip Duration minutes, Length: 300000, dtype: int32"
     },
     "metadata": {},
     "execution_count": 43
    }
   ],
   "source": [
    "df['Trip Duration minutes'] = df['Trip Duration'] / 60\n",
    "df['Trip Duration minutes'].round(0).astype('int')\n",
    ""
   ]
  },
  {
   "cell_type": "code",
   "execution_count": 44,
   "metadata": {},
   "outputs": [
    {
     "output_type": "stream",
     "name": "stdout",
     "text": "The average trip duration in minutes is: 16\n"
    }
   ],
   "source": [
    "trip_duration_min = df['Trip Duration'] / 60\n",
    "print('The average trip duration in minutes is:', trip_duration_min.mean().round(0).astype('int'))"
   ]
  },
  {
   "cell_type": "code",
   "execution_count": 45,
   "metadata": {},
   "outputs": [
    {
     "output_type": "stream",
     "name": "stdout",
     "text": "The average trip duration in minutes is: 15.60398816666667\n"
    }
   ],
   "source": [
    "trip_duration = df['Trip Duration'] / 60\n",
    "print('The average trip duration in minutes is:', trip_duration.mean())"
   ]
  },
  {
   "cell_type": "code",
   "execution_count": 46,
   "metadata": {},
   "outputs": [
    {
     "output_type": "stream",
     "name": "stdout",
     "text": "The total trip duration in hours is: 78020\n"
    }
   ],
   "source": [
    "total_duration_hours = df['Trip Duration'] / 3600\n",
    "print('The total trip duration in hours is:', total_duration_hours.sum().round(0).astype('int'))"
   ]
  },
  {
   "cell_type": "code",
   "execution_count": 47,
   "metadata": {},
   "outputs": [
    {
     "output_type": "execute_result",
     "data": {
      "text/plain": "{'Chicago': 'chicago.csv',\n 'New York City': 'new_york_city.csv',\n 'Washington': 'washington.csv'}"
     },
     "metadata": {},
     "execution_count": 47
    }
   ],
   "source": [
    "CITY_DATA"
   ]
  },
  {
   "cell_type": "code",
   "execution_count": 48,
   "metadata": {},
   "outputs": [
    {
     "output_type": "execute_result",
     "data": {
      "text/plain": "'chicago.csv'"
     },
     "metadata": {},
     "execution_count": 48
    }
   ],
   "source": [
    "CITY_DATA['Chicago']"
   ]
  },
  {
   "cell_type": "code",
   "execution_count": 49,
   "metadata": {},
   "outputs": [
    {
     "output_type": "execute_result",
     "data": {
      "text/plain": "        Unnamed: 0          Start Time             End Time  Trip Duration  \\\n0          1423854 2017-06-23 15:09:32  2017-06-23 15:14:53            321   \n1           955915 2017-05-25 18:19:03  2017-05-25 18:45:53           1610   \n2             9031 2017-01-04 08:27:49  2017-01-04 08:34:45            416   \n3           304487 2017-03-06 13:49:38  2017-03-06 13:55:28            350   \n4            45207 2017-01-17 14:53:07  2017-01-17 15:02:01            534   \n...            ...                 ...                  ...            ...   \n299995       64825 2017-01-21 13:18:00  2017-01-21 13:27:50            590   \n299996      695993 2017-04-28 19:32:19  2017-04-28 19:51:18           1139   \n299997      159685 2017-02-12 09:59:01  2017-02-12 10:21:49           1368   \n299998      564681 2017-04-16 17:07:15  2017-04-16 17:19:00            705   \n299999     1021247 2017-05-30 12:38:28  2017-05-30 12:55:36           1028   \n\n                        Start Station                   End Station  \\\n0                Wood St & Hubbard St       Damen Ave & Chicago Ave   \n1                 Theater on the Lake  Sheffield Ave & Waveland Ave   \n2                  May St & Taylor St           Wood St & Taylor St   \n3       Christiana Ave & Lawrence Ave  St. Louis Ave & Balmoral Ave   \n4              Clark St & Randolph St  Desplaines St & Jackson Blvd   \n...                               ...                           ...   \n299995        Orleans St & Elm St (*)   Sheffield Ave & Webster Ave   \n299996     Ashland Ave & Blackhawk St             Clark St & Elm St   \n299997  Ravenswood Ave & Lawrence Ave  Stockton Dr & Wrightwood Ave   \n299998      Sheffield Ave & Willow St        Clark St & Chicago Ave   \n299999      Wacker Dr & Washington St       Damen Ave & Division St   \n\n         User Type  Gender  Birth Year     Month    Weekday  Hour  \\\n0       Subscriber    Male      1992.0      June     Friday    15   \n1       Subscriber  Female      1992.0       May   Thursday    18   \n2       Subscriber    Male      1981.0   January  Wednesday     8   \n3       Subscriber    Male      1986.0     March     Monday    13   \n4       Subscriber    Male      1975.0   January    Tuesday    14   \n...            ...     ...         ...       ...        ...   ...   \n299995  Subscriber    Male      1965.0   January   Saturday    13   \n299996    Customer     NaN         NaN     April     Friday    19   \n299997  Subscriber  Female      1988.0  February     Sunday     9   \n299998    Customer     NaN         NaN     April     Sunday    17   \n299999  Subscriber    Male      1984.0       May    Tuesday    12   \n\n        Trip Duration minutes  \n0                    5.350000  \n1                   26.833333  \n2                    6.933333  \n3                    5.833333  \n4                    8.900000  \n...                       ...  \n299995               9.833333  \n299996              18.983333  \n299997              22.800000  \n299998              11.750000  \n299999              17.133333  \n\n[300000 rows x 13 columns]",
      "text/html": "<div>\n<style scoped>\n    .dataframe tbody tr th:only-of-type {\n        vertical-align: middle;\n    }\n\n    .dataframe tbody tr th {\n        vertical-align: top;\n    }\n\n    .dataframe thead th {\n        text-align: right;\n    }\n</style>\n<table border=\"1\" class=\"dataframe\">\n  <thead>\n    <tr style=\"text-align: right;\">\n      <th></th>\n      <th>Unnamed: 0</th>\n      <th>Start Time</th>\n      <th>End Time</th>\n      <th>Trip Duration</th>\n      <th>Start Station</th>\n      <th>End Station</th>\n      <th>User Type</th>\n      <th>Gender</th>\n      <th>Birth Year</th>\n      <th>Month</th>\n      <th>Weekday</th>\n      <th>Hour</th>\n      <th>Trip Duration minutes</th>\n    </tr>\n  </thead>\n  <tbody>\n    <tr>\n      <th>0</th>\n      <td>1423854</td>\n      <td>2017-06-23 15:09:32</td>\n      <td>2017-06-23 15:14:53</td>\n      <td>321</td>\n      <td>Wood St &amp; Hubbard St</td>\n      <td>Damen Ave &amp; Chicago Ave</td>\n      <td>Subscriber</td>\n      <td>Male</td>\n      <td>1992.0</td>\n      <td>June</td>\n      <td>Friday</td>\n      <td>15</td>\n      <td>5.350000</td>\n    </tr>\n    <tr>\n      <th>1</th>\n      <td>955915</td>\n      <td>2017-05-25 18:19:03</td>\n      <td>2017-05-25 18:45:53</td>\n      <td>1610</td>\n      <td>Theater on the Lake</td>\n      <td>Sheffield Ave &amp; Waveland Ave</td>\n      <td>Subscriber</td>\n      <td>Female</td>\n      <td>1992.0</td>\n      <td>May</td>\n      <td>Thursday</td>\n      <td>18</td>\n      <td>26.833333</td>\n    </tr>\n    <tr>\n      <th>2</th>\n      <td>9031</td>\n      <td>2017-01-04 08:27:49</td>\n      <td>2017-01-04 08:34:45</td>\n      <td>416</td>\n      <td>May St &amp; Taylor St</td>\n      <td>Wood St &amp; Taylor St</td>\n      <td>Subscriber</td>\n      <td>Male</td>\n      <td>1981.0</td>\n      <td>January</td>\n      <td>Wednesday</td>\n      <td>8</td>\n      <td>6.933333</td>\n    </tr>\n    <tr>\n      <th>3</th>\n      <td>304487</td>\n      <td>2017-03-06 13:49:38</td>\n      <td>2017-03-06 13:55:28</td>\n      <td>350</td>\n      <td>Christiana Ave &amp; Lawrence Ave</td>\n      <td>St. Louis Ave &amp; Balmoral Ave</td>\n      <td>Subscriber</td>\n      <td>Male</td>\n      <td>1986.0</td>\n      <td>March</td>\n      <td>Monday</td>\n      <td>13</td>\n      <td>5.833333</td>\n    </tr>\n    <tr>\n      <th>4</th>\n      <td>45207</td>\n      <td>2017-01-17 14:53:07</td>\n      <td>2017-01-17 15:02:01</td>\n      <td>534</td>\n      <td>Clark St &amp; Randolph St</td>\n      <td>Desplaines St &amp; Jackson Blvd</td>\n      <td>Subscriber</td>\n      <td>Male</td>\n      <td>1975.0</td>\n      <td>January</td>\n      <td>Tuesday</td>\n      <td>14</td>\n      <td>8.900000</td>\n    </tr>\n    <tr>\n      <th>...</th>\n      <td>...</td>\n      <td>...</td>\n      <td>...</td>\n      <td>...</td>\n      <td>...</td>\n      <td>...</td>\n      <td>...</td>\n      <td>...</td>\n      <td>...</td>\n      <td>...</td>\n      <td>...</td>\n      <td>...</td>\n      <td>...</td>\n    </tr>\n    <tr>\n      <th>299995</th>\n      <td>64825</td>\n      <td>2017-01-21 13:18:00</td>\n      <td>2017-01-21 13:27:50</td>\n      <td>590</td>\n      <td>Orleans St &amp; Elm St (*)</td>\n      <td>Sheffield Ave &amp; Webster Ave</td>\n      <td>Subscriber</td>\n      <td>Male</td>\n      <td>1965.0</td>\n      <td>January</td>\n      <td>Saturday</td>\n      <td>13</td>\n      <td>9.833333</td>\n    </tr>\n    <tr>\n      <th>299996</th>\n      <td>695993</td>\n      <td>2017-04-28 19:32:19</td>\n      <td>2017-04-28 19:51:18</td>\n      <td>1139</td>\n      <td>Ashland Ave &amp; Blackhawk St</td>\n      <td>Clark St &amp; Elm St</td>\n      <td>Customer</td>\n      <td>NaN</td>\n      <td>NaN</td>\n      <td>April</td>\n      <td>Friday</td>\n      <td>19</td>\n      <td>18.983333</td>\n    </tr>\n    <tr>\n      <th>299997</th>\n      <td>159685</td>\n      <td>2017-02-12 09:59:01</td>\n      <td>2017-02-12 10:21:49</td>\n      <td>1368</td>\n      <td>Ravenswood Ave &amp; Lawrence Ave</td>\n      <td>Stockton Dr &amp; Wrightwood Ave</td>\n      <td>Subscriber</td>\n      <td>Female</td>\n      <td>1988.0</td>\n      <td>February</td>\n      <td>Sunday</td>\n      <td>9</td>\n      <td>22.800000</td>\n    </tr>\n    <tr>\n      <th>299998</th>\n      <td>564681</td>\n      <td>2017-04-16 17:07:15</td>\n      <td>2017-04-16 17:19:00</td>\n      <td>705</td>\n      <td>Sheffield Ave &amp; Willow St</td>\n      <td>Clark St &amp; Chicago Ave</td>\n      <td>Customer</td>\n      <td>NaN</td>\n      <td>NaN</td>\n      <td>April</td>\n      <td>Sunday</td>\n      <td>17</td>\n      <td>11.750000</td>\n    </tr>\n    <tr>\n      <th>299999</th>\n      <td>1021247</td>\n      <td>2017-05-30 12:38:28</td>\n      <td>2017-05-30 12:55:36</td>\n      <td>1028</td>\n      <td>Wacker Dr &amp; Washington St</td>\n      <td>Damen Ave &amp; Division St</td>\n      <td>Subscriber</td>\n      <td>Male</td>\n      <td>1984.0</td>\n      <td>May</td>\n      <td>Tuesday</td>\n      <td>12</td>\n      <td>17.133333</td>\n    </tr>\n  </tbody>\n</table>\n<p>300000 rows × 13 columns</p>\n</div>"
     },
     "metadata": {},
     "execution_count": 49
    }
   ],
   "source": [
    "df"
   ]
  },
  {
   "cell_type": "code",
   "execution_count": 72,
   "metadata": {},
   "outputs": [],
   "source": [
    "lst = [\"aaa\",\"B\",\"CSSASAew\",\"sDDA\",\"DSADSAEsssss\"]"
   ]
  },
  {
   "cell_type": "code",
   "execution_count": 92,
   "metadata": {
    "tags": [
     "outputPrepend"
    ]
   },
   "outputs": [
    {
     "output_type": "stream",
     "name": "stdout",
     "text": " 2017-01-17 14:53:07  2017-01-17 15:02:01            534   \n\n                   Start Station                   End Station   User Type  \\\n0           Wood St & Hubbard St       Damen Ave & Chicago Ave  Subscriber   \n1            Theater on the Lake  Sheffield Ave & Waveland Ave  Subscriber   \n2             May St & Taylor St           Wood St & Taylor St  Subscriber   \n3  Christiana Ave & Lawrence Ave  St. Louis Ave & Balmoral Ave  Subscriber   \n4         Clark St & Randolph St  Desplaines St & Jackson Blvd  Subscriber   \n\n   Gender  Birth Year    Month    Weekday  Hour  Trip Duration minutes  \n0    Male      1992.0     June     Friday    15               5.350000  \n1  Female      1992.0      May   Thursday    18              26.833333  \n2    Male      1981.0  January  Wednesday     8               6.933333  \n3    Male      1986.0    March     Monday    13               5.833333  \n4    Male      1975.0  January    Tuesday    14               8.900000  \n   Unnamed: 0          Start Time             End Time  Trip Duration  \\\n5     1473887 2017-06-26 09:01:20  2017-06-26 09:11:06            586   \n6      961916 2017-05-26 09:41:44  2017-05-26 09:46:25            281   \n7       65924 2017-01-21 14:28:38  2017-01-21 14:40:41            723   \n8      606841 2017-04-20 16:08:51  2017-04-20 16:20:20            689   \n9      135470 2017-02-06 18:00:47  2017-02-06 18:09:00            493   \n\n                  Start Station                    End Station   User Type  \\\n5  Clinton St & Washington Blvd           Canal St & Taylor St  Subscriber   \n6         Ashland Ave & Lake St           Wood St & Hubbard St  Subscriber   \n7    Larrabee St & Kingsbury St     Larrabee St & Armitage Ave    Customer   \n8        Sedgwick St & Huron St  Halsted St & Blackhawk St (*)  Subscriber   \n9  Stetson Ave & South Water St   Clinton St & Washington Blvd  Subscriber   \n\n   Gender  Birth Year     Month   Weekday  Hour  Trip Duration minutes  \n5    Male      1990.0      June    Monday     9               9.766667  \n6  Female      1983.0       May    Friday     9               4.683333  \n7     NaN         NaN   January  Saturday    14              12.050000  \n8    Male      1984.0     April  Thursday    16              11.483333  \n9    Male      1979.0  February    Monday    18               8.216667  \n    Unnamed: 0          Start Time             End Time  Trip Duration  \\\n10      175805 2017-02-15 07:09:55  2017-02-15 07:14:56            301   \n11       71678 2017-01-22 15:15:45  2017-01-22 15:31:02            917   \n12       19061 2017-01-08 16:03:00  2017-01-08 16:07:37            277   \n13     1023296 2017-05-30 15:46:18  2017-05-30 15:52:12            354   \n14      611000 2017-04-20 19:26:33  2017-04-20 19:35:08            515   \n\n                     Start Station                      End Station  \\\n10            Broadway & Barry Ave         Wilton Ave & Belmont Ave   \n11  Southport Ave & Wellington Ave           Clark St & Schiller St   \n12           Green St & Madison St         Ada St & Washington Blvd   \n13      Larrabee St & Kingsbury St                Clark St & Elm St   \n14           Canal St & Madison St  Racine Ave (May St) & Fulton St   \n\n     User Type  Gender  Birth Year     Month    Weekday  Hour  \\\n10  Subscriber  Female      1993.0  February  Wednesday     7   \n11  Subscriber    Male      1964.0   January     Sunday    15   \n12  Subscriber    Male      1961.0   January     Sunday    16   \n13  Subscriber    Male      1985.0       May    Tuesday    15   \n14  Subscriber    Male      1984.0     April   Thursday    19   \n\n    Trip Duration minutes  \n10               5.016667  \n11              15.283333  \n12               4.616667  \n13               5.900000  \n14               8.583333  \n    Unnamed: 0          Start Time             End Time  Trip Duration  \\\n15      958716 2017-05-25 22:59:33  2017-05-25 23:07:19            466   \n16      718598 2017-05-03 13:20:38  2017-05-03 13:31:13            635   \n17      931608 2017-05-23 08:08:25  2017-05-23 08:11:09            164   \n18     1469705 2017-06-25 21:26:30  2017-06-25 21:33:44            434   \n19      475456 2017-04-08 11:37:55  2017-04-08 11:51:55            840   \n\n               Start Station                     End Station   User Type  \\\n15   Clark St & Armitage Ave  Sheffield Ave & Wrightwood Ave  Subscriber   \n16  Ada St & Washington Blvd              Daley Center Plaza  Subscriber   \n17   Damen Ave & Cortland St    Marshfield Ave & Cortland St  Subscriber   \n18     State St & Pearson St          Clark St & Schiller St  Subscriber   \n19         Adler Planetarium                  Burnham Harbor    Customer   \n\n    Gender  Birth Year  Month    Weekday  Hour  Trip Duration minutes  \n15  Female      1985.0    May   Thursday    22               7.766667  \n16    Male      1967.0    May  Wednesday    13              10.583333  \n17    Male      1990.0    May    Tuesday     8               2.733333  \n18    Male      1987.0   June     Sunday    21               7.233333  \n19     NaN         NaN  April   Saturday    11              14.000000  \n    Unnamed: 0          Start Time             End Time  Trip Duration  \\\n20      849468 2017-05-16 06:36:17  2017-05-16 06:59:34           1397   \n21     1420915 2017-06-23 12:21:01  2017-06-23 12:32:54            713   \n22      161454 2017-02-12 15:24:29  2017-02-12 15:38:43            854   \n23     1413814 2017-06-22 19:14:37  2017-06-22 19:29:54            917   \n24      717248 2017-05-03 09:41:11  2017-05-03 09:49:10            479   \n\n                 Start Station                           End Station  \\\n20       Michigan Ave & Oak St           Halsted St & Wrightwood Ave   \n21          Rush St & Cedar St                Halsted St & Willow St   \n22  Clarendon Ave & Leland Ave           Lake Shore Dr & Belmont Ave   \n23   Bissell St & Armitage Ave  Orleans St & Chestnut St (NEXT Apts)   \n24   Wabash Ave & Roosevelt Rd             Halsted St & Roosevelt Rd   \n\n     User Type  Gender  Birth Year     Month    Weekday  Hour  \\\n20  Subscriber  Female      1992.0       May    Tuesday     6   \n21  Subscriber    Male      1985.0      June     Friday    12   \n22  Subscriber    Male      1980.0  February     Sunday    15   \n23  Subscriber  Female      1989.0      June   Thursday    19   \n24  Subscriber    Male      1992.0       May  Wednesday     9   \n\n    Trip Duration minutes  \n20              23.283333  \n21              11.883333  \n22              14.233333  \n23              15.283333  \n24               7.983333  \n    Unnamed: 0          Start Time             End Time  Trip Duration  \\\n25     1451810 2017-06-24 20:47:40  2017-06-24 21:13:39           1559   \n26      385517 2017-03-23 09:38:27  2017-03-23 09:42:41            254   \n27     1186035 2017-06-09 07:48:55  2017-06-09 07:52:30            215   \n28      512692 2017-04-11 18:49:57  2017-04-11 18:59:36            579   \n29      261757 2017-02-25 19:01:19  2017-02-25 19:08:10            411   \n\n               Start Station                          End Station   User Type  \\\n25        Rush St & Cedar St               Halsted St & Roscoe St  Subscriber   \n26  Loomis St & Jackson Blvd             Peoria St & Jackson Blvd  Subscriber   \n27     Canal St & Madison St               Clark St & Randolph St  Subscriber   \n28      Clinton St & Lake St  Mies van der Rohe Way & Chestnut St  Subscriber   \n29  Halsted St & Dickens Ave          Halsted St & Wrightwood Ave  Subscriber   \n\n    Gender  Birth Year     Month   Weekday  Hour  Trip Duration minutes  \n25    Male      1968.0      June  Saturday    20              25.983333  \n26  Female      1985.0     March  Thursday     9               4.233333  \n27    Male      1974.0      June    Friday     7               3.583333  \n28    Male      1989.0     April   Tuesday    18               9.650000  \n29    Male      1970.0  February  Saturday    19               6.850000  \n    Unnamed: 0          Start Time             End Time  Trip Duration  \\\n30      952396 2017-05-25 16:06:09  2017-05-25 16:12:49            400   \n31     1539334 2017-06-30 10:56:50  2017-06-30 11:40:20           2610   \n32     1359055 2017-06-19 17:43:17  2017-06-19 17:59:35            978   \n33     1187843 2017-06-09 09:08:19  2017-06-09 09:15:09            410   \n34      389463 2017-03-23 20:50:57  2017-03-23 20:57:19            382   \n\n                 Start Station                   End Station   User Type  \\\n30     Clinton St & Madison St  Financial Pl & Congress Pkwy  Subscriber   \n31             McCormick Place             Adler Planetarium    Customer   \n32  Larrabee St & Armitage Ave   Dearborn Pkwy & Delaware Pl  Subscriber   \n33  Halsted St & Diversey Pkwy  Sheffield Ave & Waveland Ave  Subscriber   \n34         Ellis Ave & 55th St         Kimbark Ave & 53rd St  Subscriber   \n\n    Gender  Birth Year  Month   Weekday  Hour  Trip Duration minutes  \n30    Male      1965.0    May  Thursday    16               6.666667  \n31     NaN         NaN   June    Friday    10              43.500000  \n32  Female      1993.0   June    Monday    17              16.300000  \n33    Male      1984.0   June    Friday     9               6.833333  \n34  Female      1993.0  March  Thursday    20               6.366667  \n    Unnamed: 0          Start Time             End Time  Trip Duration  \\\n35      243879 2017-02-22 15:33:56  2017-02-22 15:54:07           1211   \n36      165328 2017-02-13 14:17:25  2017-02-13 14:22:52            327   \n37      395803 2017-03-24 15:35:55  2017-03-24 15:46:10            615   \n38      720062 2017-05-03 16:27:08  2017-05-03 16:45:15           1087   \n39       93723 2017-01-26 19:45:41  2017-01-26 19:59:31            830   \n\n               Start Station                   End Station   User Type  \\\n35   Streeter Dr & Grand Ave           Theater on the Lake    Customer   \n36  University Ave & 57th St         Kimbark Ave & 53rd St  Subscriber   \n37     Dearborn St & Erie St       State St & Van Buren St  Subscriber   \n38         Clark St & Elm St     Michigan Ave & Pearson St    Customer   \n39      McClurg Ct & Erie St  Clinton St & Washington Blvd  Subscriber   \n\n    Gender  Birth Year     Month    Weekday  Hour  Trip Duration minutes  \n35     NaN         NaN  February  Wednesday    15              20.183333  \n36  Female      1984.0  February     Monday    14               5.450000  \n37    Male      1989.0     March     Friday    15              10.250000  \n38     NaN         NaN       May  Wednesday    16              18.116667  \n39    Male      1977.0   January   Thursday    19              13.833333  \n    Unnamed: 0          Start Time             End Time  Trip Duration  \\\n40     1314009 2017-06-16 19:34:44  2017-06-16 20:16:23           2499   \n41      601870 2017-04-20 07:47:23  2017-04-20 08:03:35            972   \n42      814960 2017-05-13 14:39:17  2017-05-13 14:40:40             83   \n43      915409 2017-05-22 05:49:43  2017-05-22 05:51:15             92   \n44     1372709 2017-06-20 16:14:15  2017-06-20 16:42:26           1691   \n\n                 Start Station                End Station   User Type Gender  \\\n40     State St & Van Buren St       McClurg Ct & Erie St    Customer    NaN   \n41  Indiana Ave & Roosevelt Rd  Wacker Dr & Washington St  Subscriber   Male   \n42   Humphrey Ave & Ontario St  Humphrey Ave & Ontario St  Subscriber   Male   \n43    Clark St & Congress Pkwy  LaSalle St & Jackson Blvd  Subscriber   Male   \n44     Streeter Dr & Grand Ave    Streeter Dr & Grand Ave    Customer    NaN   \n\n    Birth Year  Month   Weekday  Hour  Trip Duration minutes  \n40         NaN   June    Friday    19              41.650000  \n41      1992.0  April  Thursday     7              16.200000  \n42      1987.0    May  Saturday    14               1.383333  \n43      1967.0    May    Monday     5               1.533333  \n44         NaN   June   Tuesday    16              28.183333  \n    Unnamed: 0          Start Time             End Time  Trip Duration  \\\n45     1319064 2017-06-17 10:41:19  2017-06-17 10:55:32            853   \n46      461905 2017-04-06 14:58:44  2017-04-06 15:04:26            342   \n47      371076 2017-03-20 21:27:24  2017-03-20 21:39:02            698   \n48      906322 2017-05-21 10:03:55  2017-05-21 10:18:17            862   \n49      141745 2017-02-08 07:13:31  2017-02-08 07:16:17            166   \n\n                      Start Station                   End Station   User Type  \\\n45         Fairbanks Ct & Grand Ave       Clinton St & Madison St  Subscriber   \n46          Franklin St & Monroe St  Michigan Ave & Washington St  Subscriber   \n47              Morgan St & Lake St          Larrabee St & Oak St  Subscriber   \n48         McClurg Ct & Illinois St      McClurg Ct & Illinois St  Subscriber   \n49  Pine Grove Ave & Irving Park Rd    Clarendon Ave & Gordon Ter  Subscriber   \n\n   Gender  Birth Year     Month    Weekday  Hour  Trip Duration minutes  \n45   Male      1990.0      June   Saturday    10              14.216667  \n46   Male      1980.0     April   Thursday    14               5.700000  \n47   Male      1972.0     March     Monday    21              11.633333  \n48   Male      1990.0       May     Sunday    10              14.366667  \n49   Male      1986.0  February  Wednesday     7               2.766667  \n    Unnamed: 0          Start Time             End Time  Trip Duration  \\\n50      629006 2017-04-22 19:12:25  2017-04-22 19:15:41            196   \n51      724597 2017-05-04 05:46:01  2017-05-04 06:07:56           1315   \n52      157790 2017-02-11 15:11:34  2017-02-11 16:30:04           4710   \n53      959864 2017-05-26 07:31:20  2017-05-26 07:38:57            457   \n54      702079 2017-05-01 08:35:17  2017-05-01 08:49:02            825   \n\n                   Start Station                 End Station   User Type  \\\n50     Clark St & Wellington Ave  Halsted St & Diversey Pkwy  Subscriber   \n51     Clark St & Wrightwood Ave     Franklin St & Monroe St  Subscriber   \n52               McCormick Place      Wabash Ave & Wacker Pl    Customer   \n53  Clinton St & Washington Blvd        State St & Kinzie St  Subscriber   \n54       Sedgwick St & North Ave       Michigan Ave & Oak St  Subscriber   \n\n    Gender  Birth Year     Month   Weekday  Hour  Trip Duration minutes  \n50    Male      1988.0     April  Saturday    19               3.266667  \n51    Male      1966.0       May  Thursday     5              21.916667  \n52     NaN         NaN  February  Saturday    15              78.500000  \n53  Female      1967.0       May    Friday     7               7.616667  \n54    Male      1983.0       May    Monday     8              13.750000  \n    Unnamed: 0          Start Time             End Time  Trip Duration  \\\n55      239793 2017-02-22 07:51:44  2017-02-22 08:00:14            510   \n56     1526760 2017-06-29 13:50:47  2017-06-29 14:10:04           1157   \n57      697597 2017-04-29 09:46:00  2017-04-29 10:14:37           1717   \n58      265806 2017-02-27 07:20:11  2017-02-27 07:31:01            650   \n59      750957 2017-05-07 11:14:27  2017-05-07 11:20:55            388   \n\n                   Start Station                 End Station   User Type  \\\n55          Broadway & Barry Ave   Sedgwick St & Webster Ave  Subscriber   \n56   Lake Shore Dr & Belmont Ave  Lake Shore Dr & North Blvd    Customer   \n57            Clark St & Lake St   Ashland Ave & Division St  Subscriber   \n58  Clinton St & Washington Blvd       Dearborn St & Erie St  Subscriber   \n59      McClurg Ct & Illinois St       Rush St & Superior St  Subscriber   \n\n    Gender  Birth Year     Month    Weekday  Hour  Trip Duration minutes  \n55    Male      1988.0  February  Wednesday     7               8.500000  \n56     NaN         NaN      June   Thursday    13              19.283333  \n57  Female      1986.0     April   Saturday     9              28.616667  \n58    Male      1975.0  February     Monday     7              10.833333  \n59  Female      1987.0       May     Sunday    11               6.466667  \n    Unnamed: 0          Start Time             End Time  Trip Duration  \\\n60     1531732 2017-06-29 17:56:46  2017-06-29 18:00:36            230   \n61     1539175 2017-06-30 10:44:24  2017-06-30 11:11:03           1599   \n62      462221 2017-04-06 15:54:54  2017-04-06 16:00:06            312   \n63      402097 2017-03-26 11:40:10  2017-03-26 11:47:05            415   \n64      445106 2017-04-03 06:31:20  2017-04-03 06:43:33            733   \n\n                    Start Station                   End Station   User Type  \\\n60  Lakeview Ave & Fullerton Pkwy  Stockton Dr & Wrightwood Ave  Subscriber   \n61                Millennium Park       Streeter Dr & Grand Ave    Customer   \n62       McClurg Ct & Illinois St        State St & Randolph St  Subscriber   \n63           McClurg Ct & Erie St   Field Blvd & South Water St  Subscriber   \n64   Clinton St & Washington Blvd     Halsted St & Roosevelt Rd  Subscriber   \n\n    Gender  Birth Year  Month   Weekday  Hour  Trip Duration minutes  \n60  Female      1993.0   June  Thursday    17               3.833333  \n61     NaN         NaN   June    Friday    10              26.650000  \n62  Female      1984.0  April  Thursday    15               5.200000  \n63    Male      1964.0  March    Sunday    11               6.916667  \n64    Male      1966.0  April    Monday     6              12.216667  \n    Unnamed: 0          Start Time             End Time  Trip Duration  \\\n65     1381495 2017-06-21 06:45:13  2017-06-21 06:49:16            243   \n66      739835 2017-05-05 17:49:23  2017-05-05 18:00:34            671   \n67      468745 2017-04-07 13:38:53  2017-04-07 13:44:05            312   \n68     1341523 2017-06-18 16:17:10  2017-06-18 16:53:55           2205   \n69      165501 2017-02-13 14:54:42  2017-02-13 15:09:05            863   \n\n                Start Station                   End Station   User Type  \\\n65      Clark St & Berwyn Ave         Broadway & Berwyn Ave  Subscriber   \n66       Clinton St & Lake St          Ogden Ave & Race Ave  Subscriber   \n67  Southport Ave & Roscoe St      Wilton Ave & Belmont Ave  Subscriber   \n68   Fairbanks Ct & Grand Ave             Adler Planetarium    Customer   \n69      Wolcott Ave & Polk St  Clinton St & Washington Blvd  Subscriber   \n\n   Gender  Birth Year     Month    Weekday  Hour  Trip Duration minutes  \n65   Male      1984.0      June  Wednesday     6               4.050000  \n66   Male      1991.0       May     Friday    17              11.183333  \n67   Male      1989.0     April     Friday    13               5.200000  \n68    NaN         NaN      June     Sunday    16              36.750000  \n69   Male      1969.0  February     Monday    14              14.383333  \n    Unnamed: 0          Start Time             End Time  Trip Duration  \\\n70      954416 2017-05-25 17:24:53  2017-05-25 17:31:16            383   \n71      527768 2017-04-13 17:37:27  2017-04-13 17:59:29           1322   \n72     1156328 2017-06-07 13:59:34  2017-06-07 14:02:55            201   \n73      132254 2017-02-06 09:36:50  2017-02-06 09:52:47            957   \n74     1140644 2017-06-06 15:05:25  2017-06-06 15:08:42            197   \n\n                Start Station                        End Station   User Type  \\\n70       Orleans St & Ohio St       Clinton St & Washington Blvd  Subscriber   \n71  Desplaines St & Kinzie St  Sangamon St & Washington Blvd (*)  Subscriber   \n72     Sedgwick St & Huron St           Kingsbury St & Kinzie St  Subscriber   \n73      Clark St & Leland Ave               Broadway & Ridge Ave  Subscriber   \n74     Halsted St & Willow St           Halsted St & Dickens Ave  Subscriber   \n\n    Gender  Birth Year     Month    Weekday  Hour  Trip Duration minutes  \n70    Male      1981.0       May   Thursday    17               6.383333  \n71  Female      1978.0     April   Thursday    17              22.033333  \n72    Male      1979.0      June  Wednesday    13               3.350000  \n73  Female      1960.0  February     Monday     9              15.950000  \n74    Male      1984.0      June    Tuesday    15               3.283333  \n"
    }
   ],
   "source": [
    "\n",
    "\n",
    "raw_data = input('\\nWould you like to see the data?\\nEnter yes or no:\\n').lower()\n",
    "if raw_data == 'yes':\n",
    "        i = 0\n",
    "        while True:\n",
    "            print(df.iloc[i:i+5])\n",
    "            i = i + 5\n",
    "            five_more = input('Would you like to see five more rows? Enter yes or no: ').lower()\n",
    "            if five_more == 'no':\n",
    "                break"
   ]
  },
  {
   "cell_type": "code",
   "execution_count": 90,
   "metadata": {},
   "outputs": [
    {
     "output_type": "execute_result",
     "data": {
      "text/plain": "   Unnamed: 0          Start Time             End Time  Trip Duration  \\\n1      955915 2017-05-25 18:19:03  2017-05-25 18:45:53           1610   \n2        9031 2017-01-04 08:27:49  2017-01-04 08:34:45            416   \n3      304487 2017-03-06 13:49:38  2017-03-06 13:55:28            350   \n4       45207 2017-01-17 14:53:07  2017-01-17 15:02:01            534   \n5     1473887 2017-06-26 09:01:20  2017-06-26 09:11:06            586   \n\n                   Start Station                   End Station   User Type  \\\n1            Theater on the Lake  Sheffield Ave & Waveland Ave  Subscriber   \n2             May St & Taylor St           Wood St & Taylor St  Subscriber   \n3  Christiana Ave & Lawrence Ave  St. Louis Ave & Balmoral Ave  Subscriber   \n4         Clark St & Randolph St  Desplaines St & Jackson Blvd  Subscriber   \n5   Clinton St & Washington Blvd          Canal St & Taylor St  Subscriber   \n\n   Gender  Birth Year    Month    Weekday  Hour  Trip Duration minutes  \n1  Female      1992.0      May   Thursday    18              26.833333  \n2    Male      1981.0  January  Wednesday     8               6.933333  \n3    Male      1986.0    March     Monday    13               5.833333  \n4    Male      1975.0  January    Tuesday    14               8.900000  \n5    Male      1990.0     June     Monday     9               9.766667  ",
      "text/html": "<div>\n<style scoped>\n    .dataframe tbody tr th:only-of-type {\n        vertical-align: middle;\n    }\n\n    .dataframe tbody tr th {\n        vertical-align: top;\n    }\n\n    .dataframe thead th {\n        text-align: right;\n    }\n</style>\n<table border=\"1\" class=\"dataframe\">\n  <thead>\n    <tr style=\"text-align: right;\">\n      <th></th>\n      <th>Unnamed: 0</th>\n      <th>Start Time</th>\n      <th>End Time</th>\n      <th>Trip Duration</th>\n      <th>Start Station</th>\n      <th>End Station</th>\n      <th>User Type</th>\n      <th>Gender</th>\n      <th>Birth Year</th>\n      <th>Month</th>\n      <th>Weekday</th>\n      <th>Hour</th>\n      <th>Trip Duration minutes</th>\n    </tr>\n  </thead>\n  <tbody>\n    <tr>\n      <th>1</th>\n      <td>955915</td>\n      <td>2017-05-25 18:19:03</td>\n      <td>2017-05-25 18:45:53</td>\n      <td>1610</td>\n      <td>Theater on the Lake</td>\n      <td>Sheffield Ave &amp; Waveland Ave</td>\n      <td>Subscriber</td>\n      <td>Female</td>\n      <td>1992.0</td>\n      <td>May</td>\n      <td>Thursday</td>\n      <td>18</td>\n      <td>26.833333</td>\n    </tr>\n    <tr>\n      <th>2</th>\n      <td>9031</td>\n      <td>2017-01-04 08:27:49</td>\n      <td>2017-01-04 08:34:45</td>\n      <td>416</td>\n      <td>May St &amp; Taylor St</td>\n      <td>Wood St &amp; Taylor St</td>\n      <td>Subscriber</td>\n      <td>Male</td>\n      <td>1981.0</td>\n      <td>January</td>\n      <td>Wednesday</td>\n      <td>8</td>\n      <td>6.933333</td>\n    </tr>\n    <tr>\n      <th>3</th>\n      <td>304487</td>\n      <td>2017-03-06 13:49:38</td>\n      <td>2017-03-06 13:55:28</td>\n      <td>350</td>\n      <td>Christiana Ave &amp; Lawrence Ave</td>\n      <td>St. Louis Ave &amp; Balmoral Ave</td>\n      <td>Subscriber</td>\n      <td>Male</td>\n      <td>1986.0</td>\n      <td>March</td>\n      <td>Monday</td>\n      <td>13</td>\n      <td>5.833333</td>\n    </tr>\n    <tr>\n      <th>4</th>\n      <td>45207</td>\n      <td>2017-01-17 14:53:07</td>\n      <td>2017-01-17 15:02:01</td>\n      <td>534</td>\n      <td>Clark St &amp; Randolph St</td>\n      <td>Desplaines St &amp; Jackson Blvd</td>\n      <td>Subscriber</td>\n      <td>Male</td>\n      <td>1975.0</td>\n      <td>January</td>\n      <td>Tuesday</td>\n      <td>14</td>\n      <td>8.900000</td>\n    </tr>\n    <tr>\n      <th>5</th>\n      <td>1473887</td>\n      <td>2017-06-26 09:01:20</td>\n      <td>2017-06-26 09:11:06</td>\n      <td>586</td>\n      <td>Clinton St &amp; Washington Blvd</td>\n      <td>Canal St &amp; Taylor St</td>\n      <td>Subscriber</td>\n      <td>Male</td>\n      <td>1990.0</td>\n      <td>June</td>\n      <td>Monday</td>\n      <td>9</td>\n      <td>9.766667</td>\n    </tr>\n  </tbody>\n</table>\n</div>"
     },
     "metadata": {},
     "execution_count": 90
    }
   ],
   "source": [
    "df.iloc[1:6]"
   ]
  },
  {
   "cell_type": "code",
   "execution_count": 82,
   "metadata": {},
   "outputs": [
    {
     "output_type": "stream",
     "name": "stdout",
     "text": "AAA\nB\nCSSASAEW\nSDDA\nDSADSAESSSSS\n"
    }
   ],
   "source": [
    "for word in lst:\n",
    "    print(word.upper() )"
   ]
  },
  {
   "cell_type": "code",
   "execution_count": 83,
   "metadata": {},
   "outputs": [
    {
     "output_type": "execute_result",
     "data": {
      "text/plain": "Subscriber    238889\nCustomer       61110\nDependent          1\nName: User Type, dtype: int64"
     },
     "metadata": {},
     "execution_count": 83
    }
   ],
   "source": [
    "user_types = df['User Type'].value_counts()\n",
    "user_types"
   ]
  },
  {
   "cell_type": "code",
   "execution_count": 94,
   "metadata": {},
   "outputs": [
    {
     "output_type": "execute_result",
     "data": {
      "text/plain": "        Unnamed: 0          Start Time             End Time  Trip Duration  \\\n0          1423854 2017-06-23 15:09:32  2017-06-23 15:14:53            321   \n1           955915 2017-05-25 18:19:03  2017-05-25 18:45:53           1610   \n2             9031 2017-01-04 08:27:49  2017-01-04 08:34:45            416   \n3           304487 2017-03-06 13:49:38  2017-03-06 13:55:28            350   \n4            45207 2017-01-17 14:53:07  2017-01-17 15:02:01            534   \n...            ...                 ...                  ...            ...   \n299995       64825 2017-01-21 13:18:00  2017-01-21 13:27:50            590   \n299996      695993 2017-04-28 19:32:19  2017-04-28 19:51:18           1139   \n299997      159685 2017-02-12 09:59:01  2017-02-12 10:21:49           1368   \n299998      564681 2017-04-16 17:07:15  2017-04-16 17:19:00            705   \n299999     1021247 2017-05-30 12:38:28  2017-05-30 12:55:36           1028   \n\n                        Start Station                   End Station  \\\n0                Wood St & Hubbard St       Damen Ave & Chicago Ave   \n1                 Theater on the Lake  Sheffield Ave & Waveland Ave   \n2                  May St & Taylor St           Wood St & Taylor St   \n3       Christiana Ave & Lawrence Ave  St. Louis Ave & Balmoral Ave   \n4              Clark St & Randolph St  Desplaines St & Jackson Blvd   \n...                               ...                           ...   \n299995        Orleans St & Elm St (*)   Sheffield Ave & Webster Ave   \n299996     Ashland Ave & Blackhawk St             Clark St & Elm St   \n299997  Ravenswood Ave & Lawrence Ave  Stockton Dr & Wrightwood Ave   \n299998      Sheffield Ave & Willow St        Clark St & Chicago Ave   \n299999      Wacker Dr & Washington St       Damen Ave & Division St   \n\n         User Type  Gender  Birth Year     Month    Weekday  Hour  \\\n0       Subscriber    Male      1992.0      June     Friday    15   \n1       Subscriber  Female      1992.0       May   Thursday    18   \n2       Subscriber    Male      1981.0   January  Wednesday     8   \n3       Subscriber    Male      1986.0     March     Monday    13   \n4       Subscriber    Male      1975.0   January    Tuesday    14   \n...            ...     ...         ...       ...        ...   ...   \n299995  Subscriber    Male      1965.0   January   Saturday    13   \n299996    Customer     NaN         NaN     April     Friday    19   \n299997  Subscriber  Female      1988.0  February     Sunday     9   \n299998    Customer     NaN         NaN     April     Sunday    17   \n299999  Subscriber    Male      1984.0       May    Tuesday    12   \n\n        Trip Duration minutes  \n0                    5.350000  \n1                   26.833333  \n2                    6.933333  \n3                    5.833333  \n4                    8.900000  \n...                       ...  \n299995               9.833333  \n299996              18.983333  \n299997              22.800000  \n299998              11.750000  \n299999              17.133333  \n\n[300000 rows x 13 columns]",
      "text/html": "<div>\n<style scoped>\n    .dataframe tbody tr th:only-of-type {\n        vertical-align: middle;\n    }\n\n    .dataframe tbody tr th {\n        vertical-align: top;\n    }\n\n    .dataframe thead th {\n        text-align: right;\n    }\n</style>\n<table border=\"1\" class=\"dataframe\">\n  <thead>\n    <tr style=\"text-align: right;\">\n      <th></th>\n      <th>Unnamed: 0</th>\n      <th>Start Time</th>\n      <th>End Time</th>\n      <th>Trip Duration</th>\n      <th>Start Station</th>\n      <th>End Station</th>\n      <th>User Type</th>\n      <th>Gender</th>\n      <th>Birth Year</th>\n      <th>Month</th>\n      <th>Weekday</th>\n      <th>Hour</th>\n      <th>Trip Duration minutes</th>\n    </tr>\n  </thead>\n  <tbody>\n    <tr>\n      <th>0</th>\n      <td>1423854</td>\n      <td>2017-06-23 15:09:32</td>\n      <td>2017-06-23 15:14:53</td>\n      <td>321</td>\n      <td>Wood St &amp; Hubbard St</td>\n      <td>Damen Ave &amp; Chicago Ave</td>\n      <td>Subscriber</td>\n      <td>Male</td>\n      <td>1992.0</td>\n      <td>June</td>\n      <td>Friday</td>\n      <td>15</td>\n      <td>5.350000</td>\n    </tr>\n    <tr>\n      <th>1</th>\n      <td>955915</td>\n      <td>2017-05-25 18:19:03</td>\n      <td>2017-05-25 18:45:53</td>\n      <td>1610</td>\n      <td>Theater on the Lake</td>\n      <td>Sheffield Ave &amp; Waveland Ave</td>\n      <td>Subscriber</td>\n      <td>Female</td>\n      <td>1992.0</td>\n      <td>May</td>\n      <td>Thursday</td>\n      <td>18</td>\n      <td>26.833333</td>\n    </tr>\n    <tr>\n      <th>2</th>\n      <td>9031</td>\n      <td>2017-01-04 08:27:49</td>\n      <td>2017-01-04 08:34:45</td>\n      <td>416</td>\n      <td>May St &amp; Taylor St</td>\n      <td>Wood St &amp; Taylor St</td>\n      <td>Subscriber</td>\n      <td>Male</td>\n      <td>1981.0</td>\n      <td>January</td>\n      <td>Wednesday</td>\n      <td>8</td>\n      <td>6.933333</td>\n    </tr>\n    <tr>\n      <th>3</th>\n      <td>304487</td>\n      <td>2017-03-06 13:49:38</td>\n      <td>2017-03-06 13:55:28</td>\n      <td>350</td>\n      <td>Christiana Ave &amp; Lawrence Ave</td>\n      <td>St. Louis Ave &amp; Balmoral Ave</td>\n      <td>Subscriber</td>\n      <td>Male</td>\n      <td>1986.0</td>\n      <td>March</td>\n      <td>Monday</td>\n      <td>13</td>\n      <td>5.833333</td>\n    </tr>\n    <tr>\n      <th>4</th>\n      <td>45207</td>\n      <td>2017-01-17 14:53:07</td>\n      <td>2017-01-17 15:02:01</td>\n      <td>534</td>\n      <td>Clark St &amp; Randolph St</td>\n      <td>Desplaines St &amp; Jackson Blvd</td>\n      <td>Subscriber</td>\n      <td>Male</td>\n      <td>1975.0</td>\n      <td>January</td>\n      <td>Tuesday</td>\n      <td>14</td>\n      <td>8.900000</td>\n    </tr>\n    <tr>\n      <th>...</th>\n      <td>...</td>\n      <td>...</td>\n      <td>...</td>\n      <td>...</td>\n      <td>...</td>\n      <td>...</td>\n      <td>...</td>\n      <td>...</td>\n      <td>...</td>\n      <td>...</td>\n      <td>...</td>\n      <td>...</td>\n      <td>...</td>\n    </tr>\n    <tr>\n      <th>299995</th>\n      <td>64825</td>\n      <td>2017-01-21 13:18:00</td>\n      <td>2017-01-21 13:27:50</td>\n      <td>590</td>\n      <td>Orleans St &amp; Elm St (*)</td>\n      <td>Sheffield Ave &amp; Webster Ave</td>\n      <td>Subscriber</td>\n      <td>Male</td>\n      <td>1965.0</td>\n      <td>January</td>\n      <td>Saturday</td>\n      <td>13</td>\n      <td>9.833333</td>\n    </tr>\n    <tr>\n      <th>299996</th>\n      <td>695993</td>\n      <td>2017-04-28 19:32:19</td>\n      <td>2017-04-28 19:51:18</td>\n      <td>1139</td>\n      <td>Ashland Ave &amp; Blackhawk St</td>\n      <td>Clark St &amp; Elm St</td>\n      <td>Customer</td>\n      <td>NaN</td>\n      <td>NaN</td>\n      <td>April</td>\n      <td>Friday</td>\n      <td>19</td>\n      <td>18.983333</td>\n    </tr>\n    <tr>\n      <th>299997</th>\n      <td>159685</td>\n      <td>2017-02-12 09:59:01</td>\n      <td>2017-02-12 10:21:49</td>\n      <td>1368</td>\n      <td>Ravenswood Ave &amp; Lawrence Ave</td>\n      <td>Stockton Dr &amp; Wrightwood Ave</td>\n      <td>Subscriber</td>\n      <td>Female</td>\n      <td>1988.0</td>\n      <td>February</td>\n      <td>Sunday</td>\n      <td>9</td>\n      <td>22.800000</td>\n    </tr>\n    <tr>\n      <th>299998</th>\n      <td>564681</td>\n      <td>2017-04-16 17:07:15</td>\n      <td>2017-04-16 17:19:00</td>\n      <td>705</td>\n      <td>Sheffield Ave &amp; Willow St</td>\n      <td>Clark St &amp; Chicago Ave</td>\n      <td>Customer</td>\n      <td>NaN</td>\n      <td>NaN</td>\n      <td>April</td>\n      <td>Sunday</td>\n      <td>17</td>\n      <td>11.750000</td>\n    </tr>\n    <tr>\n      <th>299999</th>\n      <td>1021247</td>\n      <td>2017-05-30 12:38:28</td>\n      <td>2017-05-30 12:55:36</td>\n      <td>1028</td>\n      <td>Wacker Dr &amp; Washington St</td>\n      <td>Damen Ave &amp; Division St</td>\n      <td>Subscriber</td>\n      <td>Male</td>\n      <td>1984.0</td>\n      <td>May</td>\n      <td>Tuesday</td>\n      <td>12</td>\n      <td>17.133333</td>\n    </tr>\n  </tbody>\n</table>\n<p>300000 rows × 13 columns</p>\n</div>"
     },
     "metadata": {},
     "execution_count": 94
    }
   ],
   "source": [
    "df"
   ]
  },
  {
   "cell_type": "code",
   "execution_count": 146,
   "metadata": {},
   "outputs": [
    {
     "output_type": "stream",
     "name": "stdout",
     "text": "Subscriber    238889\nCustomer       61110\nDependent          1\nName: User Type, dtype: int64\nMale      181190\nFemale     57758\nName: Gender, dtype: int64\nThe earliest year of birth is: 1899.0\nThe most recent year of birth is: 2016.0\nThe most common year of birth is: 1989.0\n"
    }
   ],
   "source": [
    "\n",
    "city = 'Chicago'\n",
    "\n",
    " \n",
    "if city == 'Washington':\n",
    "    # Display counts of user types\n",
    "    user_types_count = df['User Type'].value_counts()\n",
    "    print(user_types_count)    \n",
    "else:\n",
    "    # Display counts of user types\n",
    "    user_types_count = df['User Type'].value_counts()\n",
    "    print(user_types_count)\n",
    "\n",
    "    # Display counts of gender\n",
    "    gender_count = df['Gender'].value_counts()\n",
    "    print(gender_count)\n",
    "\n",
    "    # Display earliest, most recent, and most common year of birth\n",
    "    min_birth_year = df['Birth Year'].min()\n",
    "    print('The earliest year of birth is:', min_birth_year)\n",
    "\n",
    "    max_birth_year = df['Birth Year'].max()\n",
    "    print('The most recent year of birth is:', max_birth_year)\n",
    "\n",
    "    common_birth_year = df['Birth Year'].mode()[0]\n",
    "    print('The most common year of birth is:', common_birth_year)\n",
    "\n",
    "\n",
    ""
   ]
  },
  {
   "cell_type": "code",
   "execution_count": 148,
   "metadata": {},
   "outputs": [],
   "source": [
    "card_deck = [4, 11, 8, 5, 13, 2, 8, 10]\n",
    "hand = []\n",
    "\n",
    "# adds the last element of the card_deck list to the hand list\n",
    "# until the values in hand add up to 17 or more\n",
    "while sum(hand)  < 17:\n",
    "    hand.append(card_deck.pop())"
   ]
  },
  {
   "cell_type": "code",
   "execution_count": 168,
   "metadata": {},
   "outputs": [],
   "source": [
    "card_deck = [4, 11, 8, 5, 13, 2, 8, 10]"
   ]
  },
  {
   "cell_type": "code",
   "execution_count": 182,
   "metadata": {},
   "outputs": [
    {
     "output_type": "stream",
     "name": "stdout",
     "text": "1\n2\n3\nme\n"
    }
   ],
   "source": [
    "i = 1\n",
    "while i < 6:\n",
    "  print(i)\n",
    "  if i == 3:\n",
    "    break\n",
    "  i += 1 \n",
    "print(\"me\")"
   ]
  },
  {
   "cell_type": "markdown",
   "metadata": {},
   "source": []
  },
  {
   "cell_type": "code",
   "execution_count": 185,
   "metadata": {},
   "outputs": [
    {
     "output_type": "stream",
     "name": "stdout",
     "text": "Try again\nTry again\n"
    }
   ],
   "source": [
    "while True:\n",
    "    temp = float(input('Enter a value: '))\n",
    "    if 0 <= temp <= 100:\n",
    "        break\n",
    "    print('Try again')"
   ]
  },
  {
   "cell_type": "code",
   "execution_count": 188,
   "metadata": {},
   "outputs": [
    {
     "output_type": "execute_result",
     "data": {
      "text/plain": "True"
     },
     "metadata": {},
     "execution_count": 188
    }
   ],
   "source": [
    "valid_cities = [\"Chicago\", \"New York City\", \"Washington\"]\n",
    "city = \"New York City\"\n",
    "city in valid_cities"
   ]
  },
  {
   "cell_type": "code",
   "execution_count": 189,
   "metadata": {},
   "outputs": [
    {
     "output_type": "execute_result",
     "data": {
      "text/plain": "        Unnamed: 0          Start Time             End Time  Trip Duration  \\\n0          1423854 2017-06-23 15:09:32  2017-06-23 15:14:53            321   \n1           955915 2017-05-25 18:19:03  2017-05-25 18:45:53           1610   \n2             9031 2017-01-04 08:27:49  2017-01-04 08:34:45            416   \n3           304487 2017-03-06 13:49:38  2017-03-06 13:55:28            350   \n4            45207 2017-01-17 14:53:07  2017-01-17 15:02:01            534   \n...            ...                 ...                  ...            ...   \n299995       64825 2017-01-21 13:18:00  2017-01-21 13:27:50            590   \n299996      695993 2017-04-28 19:32:19  2017-04-28 19:51:18           1139   \n299997      159685 2017-02-12 09:59:01  2017-02-12 10:21:49           1368   \n299998      564681 2017-04-16 17:07:15  2017-04-16 17:19:00            705   \n299999     1021247 2017-05-30 12:38:28  2017-05-30 12:55:36           1028   \n\n                        Start Station                   End Station  \\\n0                Wood St & Hubbard St       Damen Ave & Chicago Ave   \n1                 Theater on the Lake  Sheffield Ave & Waveland Ave   \n2                  May St & Taylor St           Wood St & Taylor St   \n3       Christiana Ave & Lawrence Ave  St. Louis Ave & Balmoral Ave   \n4              Clark St & Randolph St  Desplaines St & Jackson Blvd   \n...                               ...                           ...   \n299995        Orleans St & Elm St (*)   Sheffield Ave & Webster Ave   \n299996     Ashland Ave & Blackhawk St             Clark St & Elm St   \n299997  Ravenswood Ave & Lawrence Ave  Stockton Dr & Wrightwood Ave   \n299998      Sheffield Ave & Willow St        Clark St & Chicago Ave   \n299999      Wacker Dr & Washington St       Damen Ave & Division St   \n\n         User Type  Gender  Birth Year     Month    Weekday  Hour  \\\n0       Subscriber    Male      1992.0      June     Friday    15   \n1       Subscriber  Female      1992.0       May   Thursday    18   \n2       Subscriber    Male      1981.0   January  Wednesday     8   \n3       Subscriber    Male      1986.0     March     Monday    13   \n4       Subscriber    Male      1975.0   January    Tuesday    14   \n...            ...     ...         ...       ...        ...   ...   \n299995  Subscriber    Male      1965.0   January   Saturday    13   \n299996    Customer     NaN         NaN     April     Friday    19   \n299997  Subscriber  Female      1988.0  February     Sunday     9   \n299998    Customer     NaN         NaN     April     Sunday    17   \n299999  Subscriber    Male      1984.0       May    Tuesday    12   \n\n        Trip Duration minutes  \n0                    5.350000  \n1                   26.833333  \n2                    6.933333  \n3                    5.833333  \n4                    8.900000  \n...                       ...  \n299995               9.833333  \n299996              18.983333  \n299997              22.800000  \n299998              11.750000  \n299999              17.133333  \n\n[300000 rows x 13 columns]",
      "text/html": "<div>\n<style scoped>\n    .dataframe tbody tr th:only-of-type {\n        vertical-align: middle;\n    }\n\n    .dataframe tbody tr th {\n        vertical-align: top;\n    }\n\n    .dataframe thead th {\n        text-align: right;\n    }\n</style>\n<table border=\"1\" class=\"dataframe\">\n  <thead>\n    <tr style=\"text-align: right;\">\n      <th></th>\n      <th>Unnamed: 0</th>\n      <th>Start Time</th>\n      <th>End Time</th>\n      <th>Trip Duration</th>\n      <th>Start Station</th>\n      <th>End Station</th>\n      <th>User Type</th>\n      <th>Gender</th>\n      <th>Birth Year</th>\n      <th>Month</th>\n      <th>Weekday</th>\n      <th>Hour</th>\n      <th>Trip Duration minutes</th>\n    </tr>\n  </thead>\n  <tbody>\n    <tr>\n      <th>0</th>\n      <td>1423854</td>\n      <td>2017-06-23 15:09:32</td>\n      <td>2017-06-23 15:14:53</td>\n      <td>321</td>\n      <td>Wood St &amp; Hubbard St</td>\n      <td>Damen Ave &amp; Chicago Ave</td>\n      <td>Subscriber</td>\n      <td>Male</td>\n      <td>1992.0</td>\n      <td>June</td>\n      <td>Friday</td>\n      <td>15</td>\n      <td>5.350000</td>\n    </tr>\n    <tr>\n      <th>1</th>\n      <td>955915</td>\n      <td>2017-05-25 18:19:03</td>\n      <td>2017-05-25 18:45:53</td>\n      <td>1610</td>\n      <td>Theater on the Lake</td>\n      <td>Sheffield Ave &amp; Waveland Ave</td>\n      <td>Subscriber</td>\n      <td>Female</td>\n      <td>1992.0</td>\n      <td>May</td>\n      <td>Thursday</td>\n      <td>18</td>\n      <td>26.833333</td>\n    </tr>\n    <tr>\n      <th>2</th>\n      <td>9031</td>\n      <td>2017-01-04 08:27:49</td>\n      <td>2017-01-04 08:34:45</td>\n      <td>416</td>\n      <td>May St &amp; Taylor St</td>\n      <td>Wood St &amp; Taylor St</td>\n      <td>Subscriber</td>\n      <td>Male</td>\n      <td>1981.0</td>\n      <td>January</td>\n      <td>Wednesday</td>\n      <td>8</td>\n      <td>6.933333</td>\n    </tr>\n    <tr>\n      <th>3</th>\n      <td>304487</td>\n      <td>2017-03-06 13:49:38</td>\n      <td>2017-03-06 13:55:28</td>\n      <td>350</td>\n      <td>Christiana Ave &amp; Lawrence Ave</td>\n      <td>St. Louis Ave &amp; Balmoral Ave</td>\n      <td>Subscriber</td>\n      <td>Male</td>\n      <td>1986.0</td>\n      <td>March</td>\n      <td>Monday</td>\n      <td>13</td>\n      <td>5.833333</td>\n    </tr>\n    <tr>\n      <th>4</th>\n      <td>45207</td>\n      <td>2017-01-17 14:53:07</td>\n      <td>2017-01-17 15:02:01</td>\n      <td>534</td>\n      <td>Clark St &amp; Randolph St</td>\n      <td>Desplaines St &amp; Jackson Blvd</td>\n      <td>Subscriber</td>\n      <td>Male</td>\n      <td>1975.0</td>\n      <td>January</td>\n      <td>Tuesday</td>\n      <td>14</td>\n      <td>8.900000</td>\n    </tr>\n    <tr>\n      <th>...</th>\n      <td>...</td>\n      <td>...</td>\n      <td>...</td>\n      <td>...</td>\n      <td>...</td>\n      <td>...</td>\n      <td>...</td>\n      <td>...</td>\n      <td>...</td>\n      <td>...</td>\n      <td>...</td>\n      <td>...</td>\n      <td>...</td>\n    </tr>\n    <tr>\n      <th>299995</th>\n      <td>64825</td>\n      <td>2017-01-21 13:18:00</td>\n      <td>2017-01-21 13:27:50</td>\n      <td>590</td>\n      <td>Orleans St &amp; Elm St (*)</td>\n      <td>Sheffield Ave &amp; Webster Ave</td>\n      <td>Subscriber</td>\n      <td>Male</td>\n      <td>1965.0</td>\n      <td>January</td>\n      <td>Saturday</td>\n      <td>13</td>\n      <td>9.833333</td>\n    </tr>\n    <tr>\n      <th>299996</th>\n      <td>695993</td>\n      <td>2017-04-28 19:32:19</td>\n      <td>2017-04-28 19:51:18</td>\n      <td>1139</td>\n      <td>Ashland Ave &amp; Blackhawk St</td>\n      <td>Clark St &amp; Elm St</td>\n      <td>Customer</td>\n      <td>NaN</td>\n      <td>NaN</td>\n      <td>April</td>\n      <td>Friday</td>\n      <td>19</td>\n      <td>18.983333</td>\n    </tr>\n    <tr>\n      <th>299997</th>\n      <td>159685</td>\n      <td>2017-02-12 09:59:01</td>\n      <td>2017-02-12 10:21:49</td>\n      <td>1368</td>\n      <td>Ravenswood Ave &amp; Lawrence Ave</td>\n      <td>Stockton Dr &amp; Wrightwood Ave</td>\n      <td>Subscriber</td>\n      <td>Female</td>\n      <td>1988.0</td>\n      <td>February</td>\n      <td>Sunday</td>\n      <td>9</td>\n      <td>22.800000</td>\n    </tr>\n    <tr>\n      <th>299998</th>\n      <td>564681</td>\n      <td>2017-04-16 17:07:15</td>\n      <td>2017-04-16 17:19:00</td>\n      <td>705</td>\n      <td>Sheffield Ave &amp; Willow St</td>\n      <td>Clark St &amp; Chicago Ave</td>\n      <td>Customer</td>\n      <td>NaN</td>\n      <td>NaN</td>\n      <td>April</td>\n      <td>Sunday</td>\n      <td>17</td>\n      <td>11.750000</td>\n    </tr>\n    <tr>\n      <th>299999</th>\n      <td>1021247</td>\n      <td>2017-05-30 12:38:28</td>\n      <td>2017-05-30 12:55:36</td>\n      <td>1028</td>\n      <td>Wacker Dr &amp; Washington St</td>\n      <td>Damen Ave &amp; Division St</td>\n      <td>Subscriber</td>\n      <td>Male</td>\n      <td>1984.0</td>\n      <td>May</td>\n      <td>Tuesday</td>\n      <td>12</td>\n      <td>17.133333</td>\n    </tr>\n  </tbody>\n</table>\n<p>300000 rows × 13 columns</p>\n</div>"
     },
     "metadata": {},
     "execution_count": 189
    }
   ],
   "source": [
    "df\n",
    ""
   ]
  },
  {
   "cell_type": "code",
   "execution_count": 194,
   "metadata": {},
   "outputs": [
    {
     "output_type": "stream",
     "name": "stdout",
     "text": "Kristijan farts pizza farts\n"
    }
   ],
   "source": [
    "lst = ['Kristijan', 'pizza', 'fart']\n",
    "new_lst = []\n",
    "for item in lst:\n",
    "    new_lst.append(item.upper())\n",
    "print('Kristijan farts pizza farts')\n",
    ""
   ]
  },
  {
   "cell_type": "code",
   "execution_count": 195,
   "metadata": {},
   "outputs": [
    {
     "output_type": "execute_result",
     "data": {
      "text/plain": "['KRISTIJAN', 'PIZZA', 'FART']"
     },
     "metadata": {},
     "execution_count": 195
    }
   ],
   "source": [
    "new_lst"
   ]
  },
  {
   "cell_type": "code",
   "execution_count": 5,
   "metadata": {},
   "outputs": [
    {
     "output_type": "execute_result",
     "data": {
      "text/plain": "{'Chicago': 'chicago.csv',\n 'New York City': 'new_york_city.csv',\n 'Washington': 'washington.csv'}"
     },
     "metadata": {},
     "execution_count": 5
    }
   ],
   "source": [
    "CITY_DATA"
   ]
  },
  {
   "cell_type": "code",
   "execution_count": 11,
   "metadata": {},
   "outputs": [
    {
     "output_type": "error",
     "ename": "NameError",
     "evalue": "name 'df' is not defined",
     "traceback": [
      "\u001b[1;31m---------------------------------------------------------------------------\u001b[0m",
      "\u001b[1;31mNameError\u001b[0m                                 Traceback (most recent call last)",
      "\u001b[1;32m<ipython-input-11-00cf07b74dcd>\u001b[0m in \u001b[0;36m<module>\u001b[1;34m\u001b[0m\n\u001b[1;32m----> 1\u001b[1;33m \u001b[0mdf\u001b[0m\u001b[1;33m\u001b[0m\u001b[1;33m\u001b[0m\u001b[0m\n\u001b[0m",
      "\u001b[1;31mNameError\u001b[0m: name 'df' is not defined"
     ]
    }
   ],
   "source": [
    "df"
   ]
  },
  {
   "cell_type": "code",
   "execution_count": null,
   "metadata": {},
   "outputs": [],
   "source": []
  }
 ]
}