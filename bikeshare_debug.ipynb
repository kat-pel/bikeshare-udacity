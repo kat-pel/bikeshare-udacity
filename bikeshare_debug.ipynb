{
 "nbformat": 4,
 "nbformat_minor": 2,
 "metadata": {
  "language_info": {
   "name": "python",
   "codemirror_mode": {
    "name": "ipython",
    "version": 3
   },
   "version": "3.7.7-final"
  },
  "orig_nbformat": 2,
  "file_extension": ".py",
  "mimetype": "text/x-python",
  "name": "python",
  "npconvert_exporter": "python",
  "pygments_lexer": "ipython3",
  "version": 3,
  "kernelspec": {
   "name": "python3",
   "display_name": "Python 3"
  }
 },
 "cells": [
  {
   "cell_type": "code",
   "execution_count": 3,
   "metadata": {},
   "outputs": [],
   "source": [
    "import time\n",
    "import pandas as pd\n",
    "import numpy as np"
   ]
  },
  {
   "cell_type": "code",
   "execution_count": 4,
   "metadata": {},
   "outputs": [],
   "source": [
    "CITY_DATA = { 'Chicago': 'chicago.csv',\n",
    "              'New York City': 'new_york_city.csv',\n",
    "              'Washington': 'washington.csv' }"
   ]
  },
  {
   "cell_type": "code",
   "execution_count": 5,
   "metadata": {},
   "outputs": [],
   "source": [
    "def get_filters():\n",
    "    \"\"\"\n",
    "    Asks user to specify a city, month, and day to analyze.\n",
    "\n",
    "    Returns:\n",
    "        (str) city - name of the city to analyze\n",
    "        (str) month - name of the month to filter by, or \"all\" to apply no month filter\n",
    "        (str) day - name of the day of week to filter by, or \"all\" to apply no day filter\n",
    "    \"\"\"\n",
    "    print('Hello! Let\\'s explore some US bikeshare data!')\n",
    "    # get user input for city (chicago, new york city, washington). HINT: Use a while loop to       handle invalid inputs\n",
    "    while True:\n",
    "        valid_cities = [\"Chicago\", \"New York City\", \"Washington\"]\n",
    "        city = input('Please enter Chicago, New York City or Washington: ').title() \n",
    "        if city in valid_cities:\n",
    "            break\n",
    "        print('Please try again')\n",
    "    \n",
    "    # get user input for month (all, january, february, ... , june)\n",
    "    while True:\n",
    "        valid_months = ['January', 'February', 'March', 'April', 'May', 'June', 'All']\n",
    "        month = input('Please enter a month January, February, March, April, May, June or all: ').title() \n",
    "        if month in valid_months:\n",
    "            break\n",
    "        print('Please try again')\n",
    "\n",
    "    # get user input for day of week (all, monday, tuesday, ... sunday)\n",
    "    while True:\n",
    "        valid_days = ['Monday', 'Tuesday', 'Wednesday', 'Thursday', 'Friday', 'Saturday', 'Sunday', 'All']\n",
    "        day = input('Please enter a day of the week Monday, Tuesday.. or all: ').title() \n",
    "        if day in valid_days:\n",
    "            break\n",
    "        print('Please try again')\n",
    "\n",
    "    print('-'*50)\n",
    "    return city, month, day"
   ]
  },
  {
   "cell_type": "code",
   "execution_count": 12,
   "metadata": {},
   "outputs": [
    {
     "output_type": "stream",
     "name": "stdout",
     "text": "Hello! Let's explore some US bikeshare data!\n--------------------------------------------------\n"
    }
   ],
   "source": [
    "city, month, day = get_filters()"
   ]
  },
  {
   "cell_type": "code",
   "execution_count": 6,
   "metadata": {},
   "outputs": [],
   "source": [
    "def load_data(city, month, day):\n",
    "    \"\"\"\n",
    "    Loads data for the specified city and filters by month and day if applicable.\n",
    "\n",
    "    Args:\n",
    "        (str) city - name of the city to analyze\n",
    "        (str) month - name of the month to filter by, or \"all\" to apply no month filter\n",
    "        (str) day - name of the day of week to filter by, or \"all\" to apply no day filter\n",
    "    Returns:\n",
    "        df - Pandas DataFrame containing city data filtered by month and day\n",
    "    \"\"\"\n",
    "    df = pd.read_csv(CITY_DATA[city])\n",
    "\n",
    "    df['Start Time'] = pd.to_datetime(df['Start Time'])\n",
    "    df['Month'] = df['Start Time'].dt.month_name()\n",
    "    df['Weekday'] = df['Start Time'].dt.day_name()\n",
    "\n",
    "    if month == \"All\":\n",
    "        months = ['January', 'February', 'March', 'April', 'May', 'June']\n",
    "        month_filter = df[\"Month\"].isin(months)\n",
    "    else:\n",
    "        month_filter = df['Month'] == month\n",
    "\n",
    "    if day == \"All\":\n",
    "        days = ['Monday', 'Tuesday', 'Wednesday', 'Thursday', 'Friday', 'Saturday', 'Sunday']\n",
    "        day_filter = df['Weekday'].isin(days)\n",
    "        \n",
    "    else:\n",
    "        day_filter = df['Weekday'] == day\n",
    "\n",
    "    df = df[day_filter & month_filter]\n",
    "\n",
    "    return df\n",
    ""
   ]
  },
  {
   "cell_type": "code",
   "execution_count": 18,
   "metadata": {},
   "outputs": [],
   "source": [
    "df = load_data(city = city, month = month, day = day)"
   ]
  },
  {
   "cell_type": "code",
   "execution_count": 11,
   "metadata": {},
   "outputs": [],
   "source": [
    "def time_stats(df):\n",
    "    \"\"\"Displays statistics on the most frequent times of travel.\"\"\"\n",
    "\n",
    "    print('\\nCalculating The Most Frequent Times of Travel...\\n')\n",
    "    start_time = time.time()\n",
    "\n",
    "    # display the most common month\n",
    "    common_month = df['Month'].mode()[0]\n",
    "    print('The most common month is:', common_month)\n",
    "\n",
    "        # display the most common day of week\n",
    "    common_day = df['Weekday'].mode()[0]\n",
    "    print('The most common day is:', common_day)\n",
    "\n",
    "        # display the most common start hour\n",
    "    df['Hour'] = df['Start Time'].dt.hour\n",
    "    common_hour = df['Hour'].mode()[0]\n",
    "    print('The most common start hour is:', common_hour)\n",
    "\n",
    "    print(\"\\nThis took %s seconds.\" % (time.time() - start_time))\n",
    "    print('-'*50)\n",
    ""
   ]
  },
  {
   "cell_type": "code",
   "execution_count": 20,
   "metadata": {},
   "outputs": [
    {
     "output_type": "stream",
     "name": "stdout",
     "text": "\nCalculating The Most Frequent Times of Travel...\n\nThe most common month is: June\nThe most common day is: Tuesday\nThe most common start hour is: 17\n\nThis took 0.09678411483764648 seconds.\n--------------------------------------------------\n"
    }
   ],
   "source": [
    "time_stats(df=df)"
   ]
  },
  {
   "cell_type": "code",
   "execution_count": 7,
   "metadata": {},
   "outputs": [],
   "source": [
    "def station_stats(df):\n",
    "    \"\"\"Displays statistics on the most popular stations and trip.\"\"\"\n",
    "\n",
    "    print('\\nCalculating The Most Popular Stations and Trip...\\n')\n",
    "    start_time = time.time()\n",
    "\n",
    "    # display number of unique stations\n",
    "    count_stations = df['Start Station'].nunique()\n",
    "    print('Number of stations: ', count_stations)\n",
    "\n",
    "    # display most commonly used start station\n",
    "    common_start_station = df['Start Station'].mode()[0]\n",
    "    print('The most common start station is:', common_start_station)\n",
    "\n",
    "    # display most commonly used end station\n",
    "    common_end_station = df['End Station'].mode()[0]\n",
    "    print('The most common end station is:', common_end_station)\n",
    "\n",
    "    # display most frequent combination of start station and end station trip\n",
    "    combination = df['Start Station'] + ' ' + '-' + ' ' + df['End Station']\n",
    "    print('The most common combination of stations is:', combination.mode()[0])\n",
    "\n",
    "    print(\"\\nThis took %s seconds.\" % (time.time() - start_time))\n",
    "    print('-'*50)\n",
    ""
   ]
  },
  {
   "cell_type": "code",
   "execution_count": 22,
   "metadata": {},
   "outputs": [
    {
     "output_type": "stream",
     "name": "stdout",
     "text": "\nCalculating The Most Popular Stations and Trip...\n\nNumber of stations:  568\nThe most common start station is: Streeter Dr & Grand Ave\nThe most common end station is: Streeter Dr & Grand Ave\nThe most common combination of stations is: Lake Shore Dr & Monroe St - Streeter Dr & Grand Ave\n\nThis took 0.4538247585296631 seconds.\n--------------------------------------------------\n"
    }
   ],
   "source": [
    "station_stats(df = df)"
   ]
  },
  {
   "cell_type": "code",
   "execution_count": 8,
   "metadata": {},
   "outputs": [],
   "source": [
    "def trip_duration_stats(df):\n",
    "    \"\"\"Displays statistics on the total and average trip duration.\"\"\"\n",
    "\n",
    "    print('\\nCalculating Trip Duration...\\n')\n",
    "    start_time = time.time()\n",
    "\n",
    "    # display total travel time\n",
    "    total_duration_hours = (df['Trip Duration'] / 3600).sum().round(0).astype('int')\n",
    "    print('The total trip duration in hours is:', total_duration_hours)\n",
    "\n",
    "    # display mean travel time\n",
    "    trip_duration_mean = (df['Trip Duration'] / 60).mean().round(0).astype('int')\n",
    "    print('The mean trip duration in minutes is:', trip_duration_mean)\n",
    "\n",
    "    print(\"\\nThis took %s seconds.\" % (time.time() - start_time))\n",
    "    print('-'*50)"
   ]
  },
  {
   "cell_type": "code",
   "execution_count": 24,
   "metadata": {},
   "outputs": [
    {
     "output_type": "stream",
     "name": "stdout",
     "text": "\nCalculating Trip Duration...\n\nThe total trip duration in hours is: 78020\nThe mean trip duration in minutes is: 16\n\nThis took 0.015476465225219727 seconds.\n--------------------------------------------------\n"
    }
   ],
   "source": [
    "trip_duration_stats(df = df)"
   ]
  },
  {
   "cell_type": "code",
   "execution_count": 9,
   "metadata": {},
   "outputs": [],
   "source": [
    "def user_stats(df, city):\n",
    "    \"\"\"Displays statistics on bikeshare users.\"\"\"\n",
    "    \n",
    "    print('\\nCalculating User Stats...\\n')\n",
    "    start_time = time.time()\n",
    "\n",
    "    if city == 'Washington':\n",
    "    # Display counts of user types\n",
    "        user_types_count = df['User Type'].value_counts()\n",
    "        print('The count of passenger types:', \"\\n\", user_types_count, \"\\n\") \n",
    "\n",
    "    else:\n",
    "    # Display counts of user types\n",
    "        user_types_count = df['User Type'].value_counts()\n",
    "        print('The count of passenger types:', \"\\n\", user_types_count, \"\\n\")\n",
    "    \n",
    "    # Display counts of gender\n",
    "        gender_count = df['Gender'].value_counts()\n",
    "        print('The count of genders:', \"\\n\", gender_count, \"\\n\")\n",
    "    \n",
    "    # Display earliest, most recent, and most common year of birth\n",
    "        min_birth_year = df['Birth Year'].min().round(0).astype('int')\n",
    "        print('The earliest year of birth is:', min_birth_year)\n",
    "    \n",
    "        max_birth_year = df['Birth Year'].max().round(0).astype('int')\n",
    "        print('The most recent year of birth is:', max_birth_year)\n",
    "    \n",
    "        common_birth_year = df['Birth Year'].mode()[0].round(0).astype('int')\n",
    "        print('The most common year of birth is:', common_birth_year)\n",
    "\n",
    "    print(\"\\nThis took %s seconds.\" % (time.time() - start_time))\n",
    "    print('-'*50)"
   ]
  },
  {
   "cell_type": "code",
   "execution_count": 28,
   "metadata": {},
   "outputs": [
    {
     "output_type": "stream",
     "name": "stdout",
     "text": "\nCalculating User Stats...\n\nThe count of passenger types: \n Subscriber    238889\nCustomer       61110\nDependent          1\nName: User Type, dtype: int64 \n\nThe count of genders: \n Male      181190\nFemale     57758\nName: Gender, dtype: int64 \n\nThe earliest year of birth is: 1899\nThe most recent year of birth is: 2016\nThe most common year of birth is: 1989\n\nThis took 0.10822033882141113 seconds.\n--------------------------------------------------\n"
    }
   ],
   "source": [
    "user_stats(df = df, city = city)"
   ]
  },
  {
   "cell_type": "code",
   "execution_count": 13,
   "metadata": {},
   "outputs": [
    {
     "output_type": "stream",
     "name": "stdout",
     "text": "Hello! Let's explore some US bikeshare data!\n--------------------------------------------------\n\nCalculating The Most Frequent Times of Travel...\n\nThe most common month is: June\nThe most common day is: Tuesday\nThe most common start hour is: 17\n\nThis took 0.024936437606811523 seconds.\n--------------------------------------------------\n\nCalculating The Most Popular Stations and Trip...\n\nNumber of stations:  529\nThe most common start station is: Clinton St & Washington Blvd\nThe most common end station is: Clinton St & Washington Blvd\nThe most common combination of stations is: Lake Shore Dr & Monroe St - Streeter Dr & Grand Ave\n\nThis took 0.04288291931152344 seconds.\n--------------------------------------------------\n\nCalculating Trip Duration...\n\nThe total trip duration in hours is: 10251\nThe mean trip duration in minutes is: 13\n\nThis took 0.005991697311401367 seconds.\n--------------------------------------------------\n\nCalculating User Stats...\n\nThe count of passenger types: \n Subscriber    40868\nCustomer       5044\nName: User Type, dtype: int64 \n\nThe count of genders: \n Male      31543\nFemale     9334\nName: Gender, dtype: int64 \n\nThe earliest year of birth is: 1899\nThe most recent year of birth is: 2016\nThe most common year of birth is: 1989\n\nThis took 0.016954898834228516 seconds.\n--------------------------------------------------\n"
    }
   ],
   "source": [
    "\n",
    "city, month, day = get_filters()\n",
    "df = load_data(city = city, month = month, day = day)\n",
    "time_stats(df = df)\n",
    "station_stats(df = df)\n",
    "trip_duration_stats(df = df)\n",
    "user_stats(df = df, city = city)\n",
    "\n",
    "        \n",
    "\n",
    "\n",
    "\n",
    ""
   ]
  },
  {
   "cell_type": "code",
   "execution_count": null,
   "metadata": {},
   "outputs": [],
   "source": []
  }
 ]
}